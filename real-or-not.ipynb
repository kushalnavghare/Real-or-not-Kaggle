{
  "nbformat": 4,
  "nbformat_minor": 0,
  "metadata": {
    "kernelspec": {
      "display_name": "Python 3",
      "language": "python",
      "name": "python3"
    },
    "language_info": {
      "codemirror_mode": {
        "name": "ipython",
        "version": 3
      },
      "file_extension": ".py",
      "mimetype": "text/x-python",
      "name": "python",
      "nbconvert_exporter": "python",
      "pygments_lexer": "ipython3",
      "version": "3.7.6"
    },
    "papermill": {
      "duration": 20.74005,
      "end_time": "2020-09-01T15:18:17.529830",
      "environment_variables": {},
      "exception": null,
      "input_path": "__notebook__.ipynb",
      "output_path": "__notebook__.ipynb",
      "parameters": {},
      "start_time": "2020-09-01T15:17:56.789780",
      "version": "2.1.0"
    },
    "colab": {
      "name": "real-or-not.ipynb",
      "provenance": [],
      "include_colab_link": true
    }
  },
  "cells": [
    {
      "cell_type": "markdown",
      "metadata": {
        "id": "view-in-github",
        "colab_type": "text"
      },
      "source": [
        "<a href=\"https://colab.research.google.com/github/kushalnavghare/Real-or-not-Kaggle/blob/master/real-or-not.ipynb\" target=\"_parent\"><img src=\"https://colab.research.google.com/assets/colab-badge.svg\" alt=\"Open In Colab\"/></a>"
      ]
    },
    {
      "cell_type": "code",
      "metadata": {
        "id": "QGGovODD6Kl5",
        "colab_type": "code",
        "colab": {
          "base_uri": "https://localhost:8080/",
          "height": 119
        },
        "outputId": "6f499021-d6c6-43ec-a6c7-f3914a45d1eb"
      },
      "source": [
        "!git clone https://github.com/kushalnavghare/Real-or-not-Kaggle.git"
      ],
      "execution_count": 1,
      "outputs": [
        {
          "output_type": "stream",
          "text": [
            "Cloning into 'Real-or-not-Kaggle'...\n",
            "remote: Enumerating objects: 8, done.\u001b[K\n",
            "remote: Counting objects: 100% (8/8), done.\u001b[K\n",
            "remote: Compressing objects: 100% (8/8), done.\u001b[K\n",
            "remote: Total 8 (delta 1), reused 0 (delta 0), pack-reused 0\u001b[K\n",
            "Unpacking objects: 100% (8/8), done.\n"
          ],
          "name": "stdout"
        }
      ]
    },
    {
      "cell_type": "code",
      "metadata": {
        "id": "aUZUhSSJ7XdM",
        "colab_type": "code",
        "colab": {
          "base_uri": "https://localhost:8080/",
          "height": 34
        },
        "outputId": "63f7d60e-4a9a-4195-b21b-cc10d892af1d"
      },
      "source": [
        "%cd Real-or-not-Kaggle/"
      ],
      "execution_count": 2,
      "outputs": [
        {
          "output_type": "stream",
          "text": [
            "/content/Real-or-not-Kaggle\n"
          ],
          "name": "stdout"
        }
      ]
    },
    {
      "cell_type": "code",
      "metadata": {
        "id": "6ZYRp8gP7qhr",
        "colab_type": "code",
        "colab": {
          "base_uri": "https://localhost:8080/",
          "height": 102
        },
        "outputId": "c912e72a-351f-450d-8c9a-3ef9c87fe55b"
      },
      "source": [
        "%ll"
      ],
      "execution_count": 3,
      "outputs": [
        {
          "output_type": "stream",
          "text": [
            "total 724\n",
            "-rw-r--r-- 1 root   1072 Sep 13 16:19 LICENSE\n",
            "-rw-r--r-- 1 root 607343 Sep 13 16:19 nlp-getting-started.zip\n",
            "-rw-r--r-- 1 root     63 Sep 13 16:19 README.md\n",
            "-rw-r--r-- 1 root 122560 Sep 13 16:19 real-or-not.ipynb\n"
          ],
          "name": "stdout"
        }
      ]
    },
    {
      "cell_type": "code",
      "metadata": {
        "id": "iDdXCy0Y7bV1",
        "colab_type": "code",
        "colab": {
          "base_uri": "https://localhost:8080/",
          "height": 85
        },
        "outputId": "7d9359de-089e-450d-c53d-cf4fe98dc11f"
      },
      "source": [
        "!unzip nlp-getting-started.zip -d data"
      ],
      "execution_count": 4,
      "outputs": [
        {
          "output_type": "stream",
          "text": [
            "Archive:  nlp-getting-started.zip\n",
            "  inflating: data/sample_submission.csv  \n",
            "  inflating: data/test.csv           \n",
            "  inflating: data/train.csv          \n"
          ],
          "name": "stdout"
        }
      ]
    },
    {
      "cell_type": "code",
      "metadata": {
        "id": "QKexKRle70oN",
        "colab_type": "code",
        "colab": {
          "base_uri": "https://localhost:8080/",
          "height": 85
        },
        "outputId": "5494323b-c8ce-4469-9ee7-738d43890b93"
      },
      "source": [
        "ll data"
      ],
      "execution_count": 5,
      "outputs": [
        {
          "output_type": "stream",
          "text": [
            "total 1404\n",
            "-rw-r--r-- 1 root  22746 Dec 16  2019 sample_submission.csv\n",
            "-rw-r--r-- 1 root 420783 Dec 16  2019 test.csv\n",
            "-rw-r--r-- 1 root 987712 Dec 16  2019 train.csv\n"
          ],
          "name": "stdout"
        }
      ]
    },
    {
      "cell_type": "code",
      "metadata": {
        "execution": {
          "iopub.execute_input": "2020-09-01T15:18:01.460172Z",
          "iopub.status.busy": "2020-09-01T15:18:01.459121Z",
          "iopub.status.idle": "2020-09-01T15:18:01.462889Z",
          "shell.execute_reply": "2020-09-01T15:18:01.463482Z"
        },
        "papermill": {
          "duration": 0.029589,
          "end_time": "2020-09-01T15:18:01.463631",
          "exception": false,
          "start_time": "2020-09-01T15:18:01.434042",
          "status": "completed"
        },
        "tags": [],
        "id": "sc-PwX3e32x5",
        "colab_type": "code",
        "colab": {
          "base_uri": "https://localhost:8080/",
          "height": 35
        },
        "outputId": "7d605a96-3a53-44d5-8dda-b552e3992972"
      },
      "source": [
        "pwd"
      ],
      "execution_count": 6,
      "outputs": [
        {
          "output_type": "execute_result",
          "data": {
            "application/vnd.google.colaboratory.intrinsic+json": {
              "type": "string"
            },
            "text/plain": [
              "'/content/Real-or-not-Kaggle'"
            ]
          },
          "metadata": {
            "tags": []
          },
          "execution_count": 6
        }
      ]
    },
    {
      "cell_type": "code",
      "metadata": {
        "execution": {
          "iopub.execute_input": "2020-09-01T15:18:01.509168Z",
          "iopub.status.busy": "2020-09-01T15:18:01.508186Z",
          "iopub.status.idle": "2020-09-01T15:18:01.511621Z",
          "shell.execute_reply": "2020-09-01T15:18:01.510835Z"
        },
        "papermill": {
          "duration": 0.0307,
          "end_time": "2020-09-01T15:18:01.511777",
          "exception": false,
          "start_time": "2020-09-01T15:18:01.481077",
          "status": "completed"
        },
        "tags": [],
        "id": "gZTkkNTf32yB",
        "colab_type": "code",
        "colab": {}
      },
      "source": [
        "import pandas as pd\n",
        "import matplotlib.pyplot as plt\n",
        "import numpy as np\n",
        "%matplotlib inline"
      ],
      "execution_count": 7,
      "outputs": []
    },
    {
      "cell_type": "code",
      "metadata": {
        "execution": {
          "iopub.execute_input": "2020-09-01T15:18:01.560413Z",
          "iopub.status.busy": "2020-09-01T15:18:01.559660Z",
          "iopub.status.idle": "2020-09-01T15:18:01.666770Z",
          "shell.execute_reply": "2020-09-01T15:18:01.665960Z"
        },
        "papermill": {
          "duration": 0.131959,
          "end_time": "2020-09-01T15:18:01.666902",
          "exception": false,
          "start_time": "2020-09-01T15:18:01.534943",
          "status": "completed"
        },
        "tags": [],
        "id": "tkNB8hfE32yI",
        "colab_type": "code",
        "colab": {}
      },
      "source": [
        "train_data = pd.read_csv('data/train.csv')\n",
        "test_data = pd.read_csv('data/test.csv')\n",
        "\n",
        "subm_data = pd.read_csv('data/sample_submission.csv')"
      ],
      "execution_count": 8,
      "outputs": []
    },
    {
      "cell_type": "code",
      "metadata": {
        "execution": {
          "iopub.execute_input": "2020-09-01T15:18:01.716612Z",
          "iopub.status.busy": "2020-09-01T15:18:01.715810Z",
          "iopub.status.idle": "2020-09-01T15:18:01.726098Z",
          "shell.execute_reply": "2020-09-01T15:18:01.725387Z"
        },
        "papermill": {
          "duration": 0.04161,
          "end_time": "2020-09-01T15:18:01.726216",
          "exception": false,
          "start_time": "2020-09-01T15:18:01.684606",
          "status": "completed"
        },
        "tags": [],
        "id": "pRKzaKQS32yQ",
        "colab_type": "code",
        "colab": {
          "base_uri": "https://localhost:8080/",
          "height": 111
        },
        "outputId": "40268b0e-aa20-44ba-d0f8-1b13d40345bd"
      },
      "source": [
        "train_data.head(2)"
      ],
      "execution_count": 9,
      "outputs": [
        {
          "output_type": "execute_result",
          "data": {
            "text/html": [
              "<div>\n",
              "<style scoped>\n",
              "    .dataframe tbody tr th:only-of-type {\n",
              "        vertical-align: middle;\n",
              "    }\n",
              "\n",
              "    .dataframe tbody tr th {\n",
              "        vertical-align: top;\n",
              "    }\n",
              "\n",
              "    .dataframe thead th {\n",
              "        text-align: right;\n",
              "    }\n",
              "</style>\n",
              "<table border=\"1\" class=\"dataframe\">\n",
              "  <thead>\n",
              "    <tr style=\"text-align: right;\">\n",
              "      <th></th>\n",
              "      <th>id</th>\n",
              "      <th>keyword</th>\n",
              "      <th>location</th>\n",
              "      <th>text</th>\n",
              "      <th>target</th>\n",
              "    </tr>\n",
              "  </thead>\n",
              "  <tbody>\n",
              "    <tr>\n",
              "      <th>0</th>\n",
              "      <td>1</td>\n",
              "      <td>NaN</td>\n",
              "      <td>NaN</td>\n",
              "      <td>Our Deeds are the Reason of this #earthquake M...</td>\n",
              "      <td>1</td>\n",
              "    </tr>\n",
              "    <tr>\n",
              "      <th>1</th>\n",
              "      <td>4</td>\n",
              "      <td>NaN</td>\n",
              "      <td>NaN</td>\n",
              "      <td>Forest fire near La Ronge Sask. Canada</td>\n",
              "      <td>1</td>\n",
              "    </tr>\n",
              "  </tbody>\n",
              "</table>\n",
              "</div>"
            ],
            "text/plain": [
              "   id keyword  ...                                               text target\n",
              "0   1     NaN  ...  Our Deeds are the Reason of this #earthquake M...      1\n",
              "1   4     NaN  ...             Forest fire near La Ronge Sask. Canada      1\n",
              "\n",
              "[2 rows x 5 columns]"
            ]
          },
          "metadata": {
            "tags": []
          },
          "execution_count": 9
        }
      ]
    },
    {
      "cell_type": "code",
      "metadata": {
        "execution": {
          "iopub.execute_input": "2020-09-01T15:18:01.768692Z",
          "iopub.status.busy": "2020-09-01T15:18:01.767955Z",
          "iopub.status.idle": "2020-09-01T15:18:02.992241Z",
          "shell.execute_reply": "2020-09-01T15:18:02.991204Z"
        },
        "papermill": {
          "duration": 1.247735,
          "end_time": "2020-09-01T15:18:02.992404",
          "exception": false,
          "start_time": "2020-09-01T15:18:01.744669",
          "status": "completed"
        },
        "tags": [],
        "id": "ta910Doe32yY",
        "colab_type": "code",
        "colab": {
          "base_uri": "https://localhost:8080/",
          "height": 71
        },
        "outputId": "8a6a9003-a132-41c9-d64c-8fa364ae3606"
      },
      "source": [
        "import seaborn as sns"
      ],
      "execution_count": 10,
      "outputs": [
        {
          "output_type": "stream",
          "text": [
            "/usr/local/lib/python3.6/dist-packages/statsmodels/tools/_testing.py:19: FutureWarning: pandas.util.testing is deprecated. Use the functions in the public API at pandas.testing instead.\n",
            "  import pandas.util.testing as tm\n"
          ],
          "name": "stderr"
        }
      ]
    },
    {
      "cell_type": "code",
      "metadata": {
        "execution": {
          "iopub.execute_input": "2020-09-01T15:18:03.046351Z",
          "iopub.status.busy": "2020-09-01T15:18:03.038631Z",
          "iopub.status.idle": "2020-09-01T15:18:03.258367Z",
          "shell.execute_reply": "2020-09-01T15:18:03.257686Z"
        },
        "papermill": {
          "duration": 0.24746,
          "end_time": "2020-09-01T15:18:03.258496",
          "exception": false,
          "start_time": "2020-09-01T15:18:03.011036",
          "status": "completed"
        },
        "tags": [],
        "id": "otxGZCS732yf",
        "colab_type": "code",
        "colab": {
          "base_uri": "https://localhost:8080/",
          "height": 296
        },
        "outputId": "28c69b45-3d7b-406f-bb1a-41567c23386e"
      },
      "source": [
        "sns.countplot(y = train_data.target)"
      ],
      "execution_count": 11,
      "outputs": [
        {
          "output_type": "execute_result",
          "data": {
            "text/plain": [
              "<matplotlib.axes._subplots.AxesSubplot at 0x7f6a1a6c3438>"
            ]
          },
          "metadata": {
            "tags": []
          },
          "execution_count": 11
        },
        {
          "output_type": "display_data",
          "data": {
            "image/png": "[encoded data removed]",
            "text/plain": [
              "<Figure size 432x288 with 1 Axes>"
            ]
          },
          "metadata": {
            "tags": [],
            "needs_background": "light"
          }
        }
      ]
    },
    {
      "cell_type": "code",
      "metadata": {
        "execution": {
          "iopub.execute_input": "2020-09-01T15:18:03.323837Z",
          "iopub.status.busy": "2020-09-01T15:18:03.320234Z",
          "iopub.status.idle": "2020-09-01T15:18:03.567016Z",
          "shell.execute_reply": "2020-09-01T15:18:03.567636Z"
        },
        "papermill": {
          "duration": 0.289398,
          "end_time": "2020-09-01T15:18:03.567794",
          "exception": false,
          "start_time": "2020-09-01T15:18:03.278396",
          "status": "completed"
        },
        "tags": [],
        "id": "n2F4U8vn32yl",
        "colab_type": "code",
        "colab": {
          "base_uri": "https://localhost:8080/",
          "height": 296
        },
        "outputId": "5057ca78-fef4-4e68-f8c3-68e20b88dedc"
      },
      "source": [
        "sns.distplot(train_data.text.str.len(), label='Average Text Length')"
      ],
      "execution_count": 12,
      "outputs": [
        {
          "output_type": "execute_result",
          "data": {
            "text/plain": [
              "<matplotlib.axes._subplots.AxesSubplot at 0x7f6a1a5f7240>"
            ]
          },
          "metadata": {
            "tags": []
          },
          "execution_count": 12
        },
        {
          "output_type": "display_data",
          "data": {
            "image/png": "[encoded data removed]",
            "text/plain": [
              "<Figure size 432x288 with 1 Axes>"
            ]
          },
          "metadata": {
            "tags": [],
            "needs_background": "light"
          }
        }
      ]
    },
    {
      "cell_type": "code",
      "metadata": {
        "execution": {
          "iopub.execute_input": "2020-09-01T15:18:03.664651Z",
          "iopub.status.busy": "2020-09-01T15:18:03.622610Z",
          "iopub.status.idle": "2020-09-01T15:18:03.740398Z",
          "shell.execute_reply": "2020-09-01T15:18:03.739776Z"
        },
        "papermill": {
          "duration": 0.150547,
          "end_time": "2020-09-01T15:18:03.740532",
          "exception": false,
          "start_time": "2020-09-01T15:18:03.589985",
          "status": "completed"
        },
        "tags": [],
        "id": "ac8fk-xw32yq",
        "colab_type": "code",
        "colab": {}
      },
      "source": [
        "most_freq_words = pd.Series(\" \".join(train_data['text']).split()).value_counts()"
      ],
      "execution_count": 13,
      "outputs": []
    },
    {
      "cell_type": "code",
      "metadata": {
        "execution": {
          "iopub.execute_input": "2020-09-01T15:18:03.790519Z",
          "iopub.status.busy": "2020-09-01T15:18:03.789532Z",
          "iopub.status.idle": "2020-09-01T15:18:04.038127Z",
          "shell.execute_reply": "2020-09-01T15:18:04.037371Z"
        },
        "papermill": {
          "duration": 0.27629,
          "end_time": "2020-09-01T15:18:04.038246",
          "exception": false,
          "start_time": "2020-09-01T15:18:03.761956",
          "status": "completed"
        },
        "tags": [],
        "id": "-2FU8vj532yv",
        "colab_type": "code",
        "colab": {
          "base_uri": "https://localhost:8080/",
          "height": 298
        },
        "outputId": "d8298bd0-b380-4503-8df2-0dd842aaea61"
      },
      "source": [
        "most_freq_words.head(20).sort_values(ascending = True).plot(kind=\"barh\",title = \"Top 20 Frequent Number Of Words\")"
      ],
      "execution_count": 14,
      "outputs": [
        {
          "output_type": "execute_result",
          "data": {
            "text/plain": [
              "<matplotlib.axes._subplots.AxesSubplot at 0x7f6a19a9b3c8>"
            ]
          },
          "metadata": {
            "tags": []
          },
          "execution_count": 14
        },
        {
          "output_type": "display_data",
          "data": {
            "image/png": "[encoded data removed]",
            "text/plain": [
              "<Figure size 432x288 with 1 Axes>"
            ]
          },
          "metadata": {
            "tags": [],
            "needs_background": "light"
          }
        }
      ]
    },
    {
      "cell_type": "markdown",
      "metadata": {
        "papermill": {
          "duration": 0.022644,
          "end_time": "2020-09-01T15:18:04.085087",
          "exception": false,
          "start_time": "2020-09-01T15:18:04.062443",
          "status": "completed"
        },
        "tags": [],
        "id": "cRD_AQ8732yz",
        "colab_type": "text"
      },
      "source": [
        "Lets look into Bi-Grams and what are those."
      ]
    },
    {
      "cell_type": "code",
      "metadata": {
        "execution": {
          "iopub.execute_input": "2020-09-01T15:18:04.136774Z",
          "iopub.status.busy": "2020-09-01T15:18:04.135982Z",
          "iopub.status.idle": "2020-09-01T15:18:04.235564Z",
          "shell.execute_reply": "2020-09-01T15:18:04.234911Z"
        },
        "papermill": {
          "duration": 0.127843,
          "end_time": "2020-09-01T15:18:04.235706",
          "exception": false,
          "start_time": "2020-09-01T15:18:04.107863",
          "status": "completed"
        },
        "tags": [],
        "id": "5x8LlhCO32y0",
        "colab_type": "code",
        "colab": {}
      },
      "source": [
        "from sklearn.feature_extraction.text import CountVectorizer"
      ],
      "execution_count": 15,
      "outputs": []
    },
    {
      "cell_type": "code",
      "metadata": {
        "execution": {
          "iopub.execute_input": "2020-09-01T15:18:04.288481Z",
          "iopub.status.busy": "2020-09-01T15:18:04.287456Z",
          "iopub.status.idle": "2020-09-01T15:18:04.289918Z",
          "shell.execute_reply": "2020-09-01T15:18:04.290733Z"
        },
        "papermill": {
          "duration": 0.031334,
          "end_time": "2020-09-01T15:18:04.290928",
          "exception": false,
          "start_time": "2020-09-01T15:18:04.259594",
          "status": "completed"
        },
        "tags": [],
        "id": "O9MbMSIC32y4",
        "colab_type": "code",
        "colab": {}
      },
      "source": [
        "word_vectorizer = CountVectorizer(ngram_range=(2,2), analyzer='word')"
      ],
      "execution_count": 16,
      "outputs": []
    },
    {
      "cell_type": "code",
      "metadata": {
        "execution": {
          "iopub.execute_input": "2020-09-01T15:18:04.391428Z",
          "iopub.status.busy": "2020-09-01T15:18:04.389537Z",
          "iopub.status.idle": "2020-09-01T15:18:13.331980Z",
          "shell.execute_reply": "2020-09-01T15:18:13.331347Z"
        },
        "papermill": {
          "duration": 8.996271,
          "end_time": "2020-09-01T15:18:13.332123",
          "exception": false,
          "start_time": "2020-09-01T15:18:04.335852",
          "status": "completed"
        },
        "tags": [],
        "id": "xZoCrz4z32y8",
        "colab_type": "code",
        "colab": {}
      },
      "source": [
        "sparse_matrix = word_vectorizer.fit_transform(train_data[\"text\"])\n",
        "frequencies = sum(sparse_matrix).toarray()[0]\n",
        "bi_grams_df = pd.DataFrame(frequencies, index=word_vectorizer.get_feature_names(), columns=['frequency'])\n",
        "\n"
      ],
      "execution_count": 17,
      "outputs": []
    },
    {
      "cell_type": "code",
      "metadata": {
        "execution": {
          "iopub.execute_input": "2020-09-01T15:18:13.391549Z",
          "iopub.status.busy": "2020-09-01T15:18:13.390794Z",
          "iopub.status.idle": "2020-09-01T15:18:13.623185Z",
          "shell.execute_reply": "2020-09-01T15:18:13.622467Z"
        },
        "papermill": {
          "duration": 0.267775,
          "end_time": "2020-09-01T15:18:13.623323",
          "exception": false,
          "start_time": "2020-09-01T15:18:13.355548",
          "status": "completed"
        },
        "tags": [],
        "id": "dTUOkeEY32zA",
        "colab_type": "code",
        "colab": {
          "base_uri": "https://localhost:8080/",
          "height": 312
        },
        "outputId": "b3620133-41e7-4354-d940-4fdf5246768c"
      },
      "source": [
        "plt.xlabel(\"Frequency\",)\n",
        "plt.ylabel(\"Terms\")\n",
        "top20_bigrams = bi_grams_df[\"frequency\"].sort_values(ascending = False).head(20)\n",
        "\n",
        "top20_bigrams.head(20).sort_values(ascending = True).plot(kind=\"barh\",title = \"Top 20 Frequent Bi Grams\")"
      ],
      "execution_count": 18,
      "outputs": [
        {
          "output_type": "execute_result",
          "data": {
            "text/plain": [
              "<matplotlib.axes._subplots.AxesSubplot at 0x7f6a19ae8518>"
            ]
          },
          "metadata": {
            "tags": []
          },
          "execution_count": 18
        },
        {
          "output_type": "display_data",
          "data": {
            "image/png": "[encoded data removed]",
            "text/plain": [
              "<Figure size 432x288 with 1 Axes>"
            ]
          },
          "metadata": {
            "tags": [],
            "needs_background": "light"
          }
        }
      ]
    },
    {
      "cell_type": "markdown",
      "metadata": {
        "papermill": {
          "duration": 0.023106,
          "end_time": "2020-09-01T15:18:13.670058",
          "exception": false,
          "start_time": "2020-09-01T15:18:13.646952",
          "status": "completed"
        },
        "tags": [],
        "id": "pkxeuH6g32zD",
        "colab_type": "text"
      },
      "source": [
        "Looks like a lot of stopwords, punctuation and http links are present in the data. MUST REMOVE IT!!"
      ]
    },
    {
      "cell_type": "code",
      "metadata": {
        "papermill": {
          "duration": 0.023135,
          "end_time": "2020-09-01T15:18:13.716786",
          "exception": false,
          "start_time": "2020-09-01T15:18:13.693651",
          "status": "completed"
        },
        "tags": [],
        "id": "I-Q1QJ5F32zE",
        "colab_type": "code",
        "colab": {}
      },
      "source": [
        ""
      ],
      "execution_count": 18,
      "outputs": []
    },
    {
      "cell_type": "markdown",
      "metadata": {
        "papermill": {
          "duration": 0.023299,
          "end_time": "2020-09-01T15:18:13.763497",
          "exception": false,
          "start_time": "2020-09-01T15:18:13.740198",
          "status": "completed"
        },
        "tags": [],
        "id": "Xi2EzuOu32zI",
        "colab_type": "text"
      },
      "source": [
        "**Text Cleaning**"
      ]
    },
    {
      "cell_type": "code",
      "metadata": {
        "execution": {
          "iopub.execute_input": "2020-09-01T15:18:13.817086Z",
          "iopub.status.busy": "2020-09-01T15:18:13.816337Z",
          "iopub.status.idle": "2020-09-01T15:18:14.428255Z",
          "shell.execute_reply": "2020-09-01T15:18:14.427575Z"
        },
        "papermill": {
          "duration": 0.641654,
          "end_time": "2020-09-01T15:18:14.428413",
          "exception": false,
          "start_time": "2020-09-01T15:18:13.786759",
          "status": "completed"
        },
        "tags": [],
        "id": "XMvMXRsy32zJ",
        "colab_type": "code",
        "colab": {}
      },
      "source": [
        "from sklearn.feature_extraction.text import CountVectorizer, TfidfVectorizer\n",
        "import re\n",
        "from nltk.corpus import stopwords\n",
        "from sklearn.model_selection import train_test_split\n",
        "import nltk\n",
        "from sklearn.linear_model import LogisticRegression\n",
        "from sklearn.svm import LinearSVC, SVC"
      ],
      "execution_count": 19,
      "outputs": []
    },
    {
      "cell_type": "code",
      "metadata": {
        "execution": {
          "iopub.execute_input": "2020-09-01T15:18:14.494021Z",
          "iopub.status.busy": "2020-09-01T15:18:14.487543Z",
          "iopub.status.idle": "2020-09-01T15:18:14.498967Z",
          "shell.execute_reply": "2020-09-01T15:18:14.498157Z"
        },
        "papermill": {
          "duration": 0.047171,
          "end_time": "2020-09-01T15:18:14.499099",
          "exception": false,
          "start_time": "2020-09-01T15:18:14.451928",
          "status": "completed"
        },
        "tags": [],
        "id": "T-5FYwoq32zN",
        "colab_type": "code",
        "colab": {}
      },
      "source": [
        "# To lower case text\n",
        "train_data['text'] = train_data.text.str.lower()"
      ],
      "execution_count": 20,
      "outputs": []
    },
    {
      "cell_type": "code",
      "metadata": {
        "execution": {
          "iopub.execute_input": "2020-09-01T15:18:14.552381Z",
          "iopub.status.busy": "2020-09-01T15:18:14.551660Z",
          "iopub.status.idle": "2020-09-01T15:18:14.559978Z",
          "shell.execute_reply": "2020-09-01T15:18:14.559219Z"
        },
        "papermill": {
          "duration": 0.037171,
          "end_time": "2020-09-01T15:18:14.560097",
          "exception": false,
          "start_time": "2020-09-01T15:18:14.522926",
          "status": "completed"
        },
        "tags": [],
        "id": "mg3bhgOS32zR",
        "colab_type": "code",
        "colab": {
          "base_uri": "https://localhost:8080/",
          "height": 51
        },
        "outputId": "60e5cc70-75f3-4a8d-b03d-176a4d053f82"
      },
      "source": [
        "# remove stopwords\n",
        "nltk.download('stopwords')\n",
        "stop_words = stopwords.words('english')"
      ],
      "execution_count": 21,
      "outputs": [
        {
          "output_type": "stream",
          "text": [
            "[nltk_data] Downloading package stopwords to /root/nltk_data...\n",
            "[nltk_data]   Unzipping corpora/stopwords.zip.\n"
          ],
          "name": "stdout"
        }
      ]
    },
    {
      "cell_type": "code",
      "metadata": {
        "execution": {
          "iopub.execute_input": "2020-09-01T15:18:14.613416Z",
          "iopub.status.busy": "2020-09-01T15:18:14.612634Z",
          "iopub.status.idle": "2020-09-01T15:18:14.617067Z",
          "shell.execute_reply": "2020-09-01T15:18:14.616334Z"
        },
        "papermill": {
          "duration": 0.033275,
          "end_time": "2020-09-01T15:18:14.617184",
          "exception": false,
          "start_time": "2020-09-01T15:18:14.583909",
          "status": "completed"
        },
        "tags": [],
        "id": "0555ZT8F32zU",
        "colab_type": "code",
        "colab": {
          "base_uri": "https://localhost:8080/",
          "height": 34
        },
        "outputId": "2b6cda5e-b89f-4574-e5a7-d669b3d64205"
      },
      "source": [
        "stop_words[:5]"
      ],
      "execution_count": 22,
      "outputs": [
        {
          "output_type": "execute_result",
          "data": {
            "text/plain": [
              "['i', 'me', 'my', 'myself', 'we']"
            ]
          },
          "metadata": {
            "tags": []
          },
          "execution_count": 22
        }
      ]
    },
    {
      "cell_type": "code",
      "metadata": {
        "execution": {
          "iopub.execute_input": "2020-09-01T15:18:14.694286Z",
          "iopub.status.busy": "2020-09-01T15:18:14.690912Z",
          "iopub.status.idle": "2020-09-01T15:18:14.697856Z",
          "shell.execute_reply": "2020-09-01T15:18:14.697174Z"
        },
        "papermill": {
          "duration": 0.056942,
          "end_time": "2020-09-01T15:18:14.697974",
          "exception": false,
          "start_time": "2020-09-01T15:18:14.641032",
          "status": "completed"
        },
        "tags": [],
        "id": "tvdyAqXZ32zb",
        "colab_type": "code",
        "colab": {}
      },
      "source": [
        "tokenized_doc = train_data['text'].apply(lambda x: x.split())"
      ],
      "execution_count": 23,
      "outputs": []
    },
    {
      "cell_type": "code",
      "metadata": {
        "execution": {
          "iopub.execute_input": "2020-09-01T15:18:14.752105Z",
          "iopub.status.busy": "2020-09-01T15:18:14.751370Z",
          "iopub.status.idle": "2020-09-01T15:18:15.048525Z",
          "shell.execute_reply": "2020-09-01T15:18:15.047679Z"
        },
        "papermill": {
          "duration": 0.326532,
          "end_time": "2020-09-01T15:18:15.048658",
          "exception": false,
          "start_time": "2020-09-01T15:18:14.722126",
          "status": "completed"
        },
        "tags": [],
        "id": "CFtKS18g32zg",
        "colab_type": "code",
        "colab": {}
      },
      "source": [
        "# remove stop-words\n",
        "tokenized_doc = tokenized_doc.apply(lambda x: [item for item in x if item not in stop_words])"
      ],
      "execution_count": 24,
      "outputs": []
    },
    {
      "cell_type": "code",
      "metadata": {
        "execution": {
          "iopub.execute_input": "2020-09-01T15:18:15.158212Z",
          "iopub.status.busy": "2020-09-01T15:18:15.153202Z",
          "iopub.status.idle": "2020-09-01T15:18:15.213834Z",
          "shell.execute_reply": "2020-09-01T15:18:15.213037Z"
        },
        "papermill": {
          "duration": 0.140907,
          "end_time": "2020-09-01T15:18:15.213957",
          "exception": false,
          "start_time": "2020-09-01T15:18:15.073050",
          "status": "completed"
        },
        "tags": [],
        "id": "ZS2ildHw32zm",
        "colab_type": "code",
        "colab": {}
      },
      "source": [
        "train_data['clean_text'] = tokenized_doc.astype(str).str.replace('\\[|\\]|\\'', '')\n",
        "train_data['clean_text'] = train_data.clean_text.str.replace(\",\",'')"
      ],
      "execution_count": 25,
      "outputs": []
    },
    {
      "cell_type": "code",
      "metadata": {
        "execution": {
          "iopub.execute_input": "2020-09-01T15:18:15.287346Z",
          "iopub.status.busy": "2020-09-01T15:18:15.277120Z",
          "iopub.status.idle": "2020-09-01T15:18:15.332570Z",
          "shell.execute_reply": "2020-09-01T15:18:15.331836Z"
        },
        "papermill": {
          "duration": 0.093791,
          "end_time": "2020-09-01T15:18:15.332704",
          "exception": false,
          "start_time": "2020-09-01T15:18:15.238913",
          "status": "completed"
        },
        "tags": [],
        "id": "54Gvei_Z32zr",
        "colab_type": "code",
        "colab": {}
      },
      "source": [
        "train_data['clean_text'] = train_data.clean_text.str.replace(r'[^\\w\\s]', '')"
      ],
      "execution_count": 26,
      "outputs": []
    },
    {
      "cell_type": "code",
      "metadata": {
        "execution": {
          "iopub.execute_input": "2020-09-01T15:18:15.395842Z",
          "iopub.status.busy": "2020-09-01T15:18:15.394764Z",
          "iopub.status.idle": "2020-09-01T15:18:15.399123Z",
          "shell.execute_reply": "2020-09-01T15:18:15.399748Z"
        },
        "papermill": {
          "duration": 0.041734,
          "end_time": "2020-09-01T15:18:15.399927",
          "exception": false,
          "start_time": "2020-09-01T15:18:15.358193",
          "status": "completed"
        },
        "tags": [],
        "id": "PWoHIDDV32zv",
        "colab_type": "code",
        "colab": {
          "base_uri": "https://localhost:8080/",
          "height": 111
        },
        "outputId": "9b5b03ae-6024-4674-bedd-a1d3cf0c32bb"
      },
      "source": [
        "train_data.head(2)"
      ],
      "execution_count": 27,
      "outputs": [
        {
          "output_type": "execute_result",
          "data": {
            "text/html": [
              "<div>\n",
              "<style scoped>\n",
              "    .dataframe tbody tr th:only-of-type {\n",
              "        vertical-align: middle;\n",
              "    }\n",
              "\n",
              "    .dataframe tbody tr th {\n",
              "        vertical-align: top;\n",
              "    }\n",
              "\n",
              "    .dataframe thead th {\n",
              "        text-align: right;\n",
              "    }\n",
              "</style>\n",
              "<table border=\"1\" class=\"dataframe\">\n",
              "  <thead>\n",
              "    <tr style=\"text-align: right;\">\n",
              "      <th></th>\n",
              "      <th>id</th>\n",
              "      <th>keyword</th>\n",
              "      <th>location</th>\n",
              "      <th>text</th>\n",
              "      <th>target</th>\n",
              "      <th>clean_text</th>\n",
              "    </tr>\n",
              "  </thead>\n",
              "  <tbody>\n",
              "    <tr>\n",
              "      <th>0</th>\n",
              "      <td>1</td>\n",
              "      <td>NaN</td>\n",
              "      <td>NaN</td>\n",
              "      <td>our deeds are the reason of this #earthquake m...</td>\n",
              "      <td>1</td>\n",
              "      <td>deeds reason earthquake may allah forgive us</td>\n",
              "    </tr>\n",
              "    <tr>\n",
              "      <th>1</th>\n",
              "      <td>4</td>\n",
              "      <td>NaN</td>\n",
              "      <td>NaN</td>\n",
              "      <td>forest fire near la ronge sask. canada</td>\n",
              "      <td>1</td>\n",
              "      <td>forest fire near la ronge sask canada</td>\n",
              "    </tr>\n",
              "  </tbody>\n",
              "</table>\n",
              "</div>"
            ],
            "text/plain": [
              "   id keyword  ... target                                    clean_text\n",
              "0   1     NaN  ...      1  deeds reason earthquake may allah forgive us\n",
              "1   4     NaN  ...      1         forest fire near la ronge sask canada\n",
              "\n",
              "[2 rows x 6 columns]"
            ]
          },
          "metadata": {
            "tags": []
          },
          "execution_count": 27
        }
      ]
    },
    {
      "cell_type": "code",
      "metadata": {
        "execution": {
          "iopub.execute_input": "2020-09-01T15:18:15.457285Z",
          "iopub.status.busy": "2020-09-01T15:18:15.456215Z",
          "iopub.status.idle": "2020-09-01T15:18:15.459769Z",
          "shell.execute_reply": "2020-09-01T15:18:15.459148Z"
        },
        "papermill": {
          "duration": 0.035354,
          "end_time": "2020-09-01T15:18:15.459900",
          "exception": false,
          "start_time": "2020-09-01T15:18:15.424546",
          "status": "completed"
        },
        "tags": [],
        "id": "SsZv9o1y32zz",
        "colab_type": "code",
        "colab": {}
      },
      "source": [
        "def top_n_words(text, n):\n",
        "    \n",
        "    most_freq_words = pd.Series(\" \".join(text).split()).value_counts()\n",
        "    return most_freq_words.head(n).sort_values(ascending = True).plot(kind=\"barh\",title = \"Top {n} Frequent Number Of Words\".format(n = n))"
      ],
      "execution_count": 28,
      "outputs": []
    },
    {
      "cell_type": "code",
      "metadata": {
        "execution": {
          "iopub.execute_input": "2020-09-01T15:18:15.533751Z",
          "iopub.status.busy": "2020-09-01T15:18:15.526185Z",
          "iopub.status.idle": "2020-09-01T15:18:15.791879Z",
          "shell.execute_reply": "2020-09-01T15:18:15.792458Z"
        },
        "papermill": {
          "duration": 0.307912,
          "end_time": "2020-09-01T15:18:15.792629",
          "exception": false,
          "start_time": "2020-09-01T15:18:15.484717",
          "status": "completed"
        },
        "tags": [],
        "id": "3LyzxTqn32z3",
        "colab_type": "code",
        "colab": {
          "base_uri": "https://localhost:8080/",
          "height": 298
        },
        "outputId": "3ead68d3-64ee-4eae-9734-fc13a5e47a87"
      },
      "source": [
        "top_n_words(train_data.clean_text, 15)"
      ],
      "execution_count": 29,
      "outputs": [
        {
          "output_type": "execute_result",
          "data": {
            "text/plain": [
              "<matplotlib.axes._subplots.AxesSubplot at 0x7f6a11b68be0>"
            ]
          },
          "metadata": {
            "tags": []
          },
          "execution_count": 29
        },
        {
          "output_type": "display_data",
          "data": {
            "image/png": "[encoded data removed]",
            "text/plain": [
              "<Figure size 432x288 with 1 Axes>"
            ]
          },
          "metadata": {
            "tags": [],
            "needs_background": "light"
          }
        }
      ]
    },
    {
      "cell_type": "code",
      "metadata": {
        "execution": {
          "iopub.execute_input": "2020-09-01T15:18:15.866684Z",
          "iopub.status.busy": "2020-09-01T15:18:15.856207Z",
          "iopub.status.idle": "2020-09-01T15:18:15.904745Z",
          "shell.execute_reply": "2020-09-01T15:18:15.903997Z"
        },
        "papermill": {
          "duration": 0.085468,
          "end_time": "2020-09-01T15:18:15.904867",
          "exception": false,
          "start_time": "2020-09-01T15:18:15.819399",
          "status": "completed"
        },
        "tags": [],
        "id": "tRR7WneD32z8",
        "colab_type": "code",
        "colab": {
          "base_uri": "https://localhost:8080/",
          "height": 221
        },
        "outputId": "a33b3368-de96-4a9d-9bb8-06f47f5537d3"
      },
      "source": [
        "# Remove numbers from the text\n",
        "train_data.clean_text.str.replace('\\d+', '')"
      ],
      "execution_count": 30,
      "outputs": [
        {
          "output_type": "execute_result",
          "data": {
            "text/plain": [
              "0            deeds reason earthquake may allah forgive us\n",
              "1                   forest fire near la ronge sask canada\n",
              "2       residents asked shelter place notified officer...\n",
              "3        people receive wildfires evacuation orders ca...\n",
              "4       got sent photo ruby alaska smoke wildfires pou...\n",
              "                              ...                        \n",
              "7608    two giant cranes holding bridge collapse nearb...\n",
              "7609    aria_ahrary thetawniest control wild fires cal...\n",
              "7610             m  utckm volcano hawaii httptcozdtoydebj\n",
              "7611    police investigating ebike collided car little...\n",
              "7612    latest homes razed northern california wildfir...\n",
              "Name: clean_text, Length: 7613, dtype: object"
            ]
          },
          "metadata": {
            "tags": []
          },
          "execution_count": 30
        }
      ]
    },
    {
      "cell_type": "code",
      "metadata": {
        "execution": {
          "iopub.execute_input": "2020-09-01T15:18:16.023533Z",
          "iopub.status.busy": "2020-09-01T15:18:15.994167Z",
          "iopub.status.idle": "2020-09-01T15:18:16.026347Z",
          "shell.execute_reply": "2020-09-01T15:18:16.026889Z"
        },
        "papermill": {
          "duration": 0.0972,
          "end_time": "2020-09-01T15:18:16.027055",
          "exception": false,
          "start_time": "2020-09-01T15:18:15.929855",
          "status": "completed"
        },
        "tags": [],
        "id": "E_SttFr432z_",
        "colab_type": "code",
        "colab": {}
      },
      "source": [
        "# Remove URLs\n",
        "train_data['clean_text'] = train_data.clean_text.apply(lambda x: re.sub(r\"http\\S+\", \"\", str(x)))\n",
        "\n",
        "# Remove numbers\n",
        "train_data['clean_text'] = train_data.clean_text.str.replace('\\d+', '')\n",
        "# re.sub(r'https?:\\/\\/.*[\\r\\n]*', '', str(train_data.clean_text))"
      ],
      "execution_count": 31,
      "outputs": []
    },
    {
      "cell_type": "code",
      "metadata": {
        "execution": {
          "iopub.execute_input": "2020-09-01T15:18:16.100612Z",
          "iopub.status.busy": "2020-09-01T15:18:16.099553Z",
          "iopub.status.idle": "2020-09-01T15:18:16.104071Z",
          "shell.execute_reply": "2020-09-01T15:18:16.103344Z"
        },
        "papermill": {
          "duration": 0.051781,
          "end_time": "2020-09-01T15:18:16.104192",
          "exception": false,
          "start_time": "2020-09-01T15:18:16.052411",
          "status": "completed"
        },
        "tags": [],
        "id": "Yq2VdgY7320C",
        "colab_type": "code",
        "colab": {
          "base_uri": "https://localhost:8080/",
          "height": 111
        },
        "outputId": "8599c260-2f7f-4c36-90dd-cf0652e6dbc8"
      },
      "source": [
        "train_data.head(2)"
      ],
      "execution_count": 32,
      "outputs": [
        {
          "output_type": "execute_result",
          "data": {
            "text/html": [
              "<div>\n",
              "<style scoped>\n",
              "    .dataframe tbody tr th:only-of-type {\n",
              "        vertical-align: middle;\n",
              "    }\n",
              "\n",
              "    .dataframe tbody tr th {\n",
              "        vertical-align: top;\n",
              "    }\n",
              "\n",
              "    .dataframe thead th {\n",
              "        text-align: right;\n",
              "    }\n",
              "</style>\n",
              "<table border=\"1\" class=\"dataframe\">\n",
              "  <thead>\n",
              "    <tr style=\"text-align: right;\">\n",
              "      <th></th>\n",
              "      <th>id</th>\n",
              "      <th>keyword</th>\n",
              "      <th>location</th>\n",
              "      <th>text</th>\n",
              "      <th>target</th>\n",
              "      <th>clean_text</th>\n",
              "    </tr>\n",
              "  </thead>\n",
              "  <tbody>\n",
              "    <tr>\n",
              "      <th>0</th>\n",
              "      <td>1</td>\n",
              "      <td>NaN</td>\n",
              "      <td>NaN</td>\n",
              "      <td>our deeds are the reason of this #earthquake m...</td>\n",
              "      <td>1</td>\n",
              "      <td>deeds reason earthquake may allah forgive us</td>\n",
              "    </tr>\n",
              "    <tr>\n",
              "      <th>1</th>\n",
              "      <td>4</td>\n",
              "      <td>NaN</td>\n",
              "      <td>NaN</td>\n",
              "      <td>forest fire near la ronge sask. canada</td>\n",
              "      <td>1</td>\n",
              "      <td>forest fire near la ronge sask canada</td>\n",
              "    </tr>\n",
              "  </tbody>\n",
              "</table>\n",
              "</div>"
            ],
            "text/plain": [
              "   id keyword  ... target                                    clean_text\n",
              "0   1     NaN  ...      1  deeds reason earthquake may allah forgive us\n",
              "1   4     NaN  ...      1         forest fire near la ronge sask canada\n",
              "\n",
              "[2 rows x 6 columns]"
            ]
          },
          "metadata": {
            "tags": []
          },
          "execution_count": 32
        }
      ]
    },
    {
      "cell_type": "code",
      "metadata": {
        "execution": {
          "iopub.execute_input": "2020-09-01T15:18:16.165641Z",
          "iopub.status.busy": "2020-09-01T15:18:16.164804Z",
          "iopub.status.idle": "2020-09-01T15:18:16.168721Z",
          "shell.execute_reply": "2020-09-01T15:18:16.168146Z"
        },
        "papermill": {
          "duration": 0.037877,
          "end_time": "2020-09-01T15:18:16.168842",
          "exception": false,
          "start_time": "2020-09-01T15:18:16.130965",
          "status": "completed"
        },
        "tags": [],
        "id": "UN-f7lGP320H",
        "colab_type": "code",
        "colab": {}
      },
      "source": [
        "# train test split\n",
        "target = train_data['target']\n",
        "    \n",
        "x_train, x_test, y_train, y_test = train_test_split(train_data['clean_text'], target, test_size=0.30, random_state=100)"
      ],
      "execution_count": 33,
      "outputs": []
    },
    {
      "cell_type": "code",
      "metadata": {
        "execution": {
          "iopub.execute_input": "2020-09-01T15:18:16.226335Z",
          "iopub.status.busy": "2020-09-01T15:18:16.225559Z",
          "iopub.status.idle": "2020-09-01T15:18:16.228945Z",
          "shell.execute_reply": "2020-09-01T15:18:16.228227Z"
        },
        "papermill": {
          "duration": 0.034501,
          "end_time": "2020-09-01T15:18:16.229063",
          "exception": false,
          "start_time": "2020-09-01T15:18:16.194562",
          "status": "completed"
        },
        "tags": [],
        "id": "YoTyegSY320N",
        "colab_type": "code",
        "colab": {}
      },
      "source": [
        "# Feature extraction\n",
        "\n",
        "vectorizer = CountVectorizer(max_df = 0.7, max_features=1000)"
      ],
      "execution_count": 34,
      "outputs": []
    },
    {
      "cell_type": "code",
      "metadata": {
        "execution": {
          "iopub.execute_input": "2020-09-01T15:18:16.288316Z",
          "iopub.status.busy": "2020-09-01T15:18:16.287177Z",
          "iopub.status.idle": "2020-09-01T15:18:16.555064Z",
          "shell.execute_reply": "2020-09-01T15:18:16.554398Z"
        },
        "papermill": {
          "duration": 0.299711,
          "end_time": "2020-09-01T15:18:16.555187",
          "exception": false,
          "start_time": "2020-09-01T15:18:16.255476",
          "status": "completed"
        },
        "tags": [],
        "id": "FlnQUo9P320Q",
        "colab_type": "code",
        "colab": {}
      },
      "source": [
        "train_df = vectorizer.fit_transform(x_train.values.astype('U'))\n",
        "    \n",
        "test_df = vectorizer.transform(x_test.values.astype('U'))"
      ],
      "execution_count": 35,
      "outputs": []
    },
    {
      "cell_type": "code",
      "metadata": {
        "execution": {
          "iopub.execute_input": "2020-09-01T15:18:16.612276Z",
          "iopub.status.busy": "2020-09-01T15:18:16.611190Z",
          "iopub.status.idle": "2020-09-01T15:18:16.614739Z",
          "shell.execute_reply": "2020-09-01T15:18:16.614034Z"
        },
        "papermill": {
          "duration": 0.033781,
          "end_time": "2020-09-01T15:18:16.614859",
          "exception": false,
          "start_time": "2020-09-01T15:18:16.581078",
          "status": "completed"
        },
        "tags": [],
        "id": "Jk1iQ9MT320V",
        "colab_type": "code",
        "colab": {}
      },
      "source": [
        "from sklearn.linear_model import LogisticRegression"
      ],
      "execution_count": 36,
      "outputs": []
    },
    {
      "cell_type": "code",
      "metadata": {
        "execution": {
          "iopub.execute_input": "2020-09-01T15:18:16.671854Z",
          "iopub.status.busy": "2020-09-01T15:18:16.670801Z",
          "iopub.status.idle": "2020-09-01T15:18:16.674309Z",
          "shell.execute_reply": "2020-09-01T15:18:16.673582Z"
        },
        "papermill": {
          "duration": 0.033758,
          "end_time": "2020-09-01T15:18:16.674430",
          "exception": false,
          "start_time": "2020-09-01T15:18:16.640672",
          "status": "completed"
        },
        "tags": [],
        "id": "koAP16eg320Y",
        "colab_type": "code",
        "colab": {}
      },
      "source": [
        "model = LogisticRegression()"
      ],
      "execution_count": 37,
      "outputs": []
    },
    {
      "cell_type": "code",
      "metadata": {
        "execution": {
          "iopub.execute_input": "2020-09-01T15:18:16.731343Z",
          "iopub.status.busy": "2020-09-01T15:18:16.730599Z",
          "iopub.status.idle": "2020-09-01T15:18:16.810363Z",
          "shell.execute_reply": "2020-09-01T15:18:16.809580Z"
        },
        "papermill": {
          "duration": 0.110084,
          "end_time": "2020-09-01T15:18:16.810514",
          "exception": false,
          "start_time": "2020-09-01T15:18:16.700430",
          "status": "completed"
        },
        "tags": [],
        "id": "rLANzJ7i320c",
        "colab_type": "code",
        "colab": {
          "base_uri": "https://localhost:8080/",
          "height": 102
        },
        "outputId": "7b7593be-de11-4f08-8eec-c74caa0a37e2"
      },
      "source": [
        "model.fit(train_df, y_train)"
      ],
      "execution_count": 38,
      "outputs": [
        {
          "output_type": "execute_result",
          "data": {
            "text/plain": [
              "LogisticRegression(C=1.0, class_weight=None, dual=False, fit_intercept=True,\n",
              "                   intercept_scaling=1, l1_ratio=None, max_iter=100,\n",
              "                   multi_class='auto', n_jobs=None, penalty='l2',\n",
              "                   random_state=None, solver='lbfgs', tol=0.0001, verbose=0,\n",
              "                   warm_start=False)"
            ]
          },
          "metadata": {
            "tags": []
          },
          "execution_count": 38
        }
      ]
    },
    {
      "cell_type": "code",
      "metadata": {
        "execution": {
          "iopub.execute_input": "2020-09-01T15:18:16.868568Z",
          "iopub.status.busy": "2020-09-01T15:18:16.867808Z",
          "iopub.status.idle": "2020-09-01T15:18:16.873330Z",
          "shell.execute_reply": "2020-09-01T15:18:16.872579Z"
        },
        "papermill": {
          "duration": 0.036564,
          "end_time": "2020-09-01T15:18:16.873459",
          "exception": false,
          "start_time": "2020-09-01T15:18:16.836895",
          "status": "completed"
        },
        "tags": [],
        "id": "fkXfjxla320g",
        "colab_type": "code",
        "colab": {
          "base_uri": "https://localhost:8080/",
          "height": 34
        },
        "outputId": "cb10c5d2-9b01-4a47-b75e-1456720b0a69"
      },
      "source": [
        "model.predict(test_df)"
      ],
      "execution_count": 39,
      "outputs": [
        {
          "output_type": "execute_result",
          "data": {
            "text/plain": [
              "array([1, 0, 1, ..., 0, 0, 1])"
            ]
          },
          "metadata": {
            "tags": []
          },
          "execution_count": 39
        }
      ]
    },
    {
      "cell_type": "code",
      "metadata": {
        "execution": {
          "iopub.execute_input": "2020-09-01T15:18:16.932203Z",
          "iopub.status.busy": "2020-09-01T15:18:16.931213Z",
          "iopub.status.idle": "2020-09-01T15:18:16.934766Z",
          "shell.execute_reply": "2020-09-01T15:18:16.934049Z"
        },
        "papermill": {
          "duration": 0.034692,
          "end_time": "2020-09-01T15:18:16.934881",
          "exception": false,
          "start_time": "2020-09-01T15:18:16.900189",
          "status": "completed"
        },
        "tags": [],
        "id": "4xlRWnD7320l",
        "colab_type": "code",
        "colab": {}
      },
      "source": [
        "from sklearn.metrics import precision_recall_curve"
      ],
      "execution_count": 40,
      "outputs": []
    },
    {
      "cell_type": "code",
      "metadata": {
        "execution": {
          "iopub.execute_input": "2020-09-01T15:18:16.993428Z",
          "iopub.status.busy": "2020-09-01T15:18:16.992469Z",
          "iopub.status.idle": "2020-09-01T15:18:16.996327Z",
          "shell.execute_reply": "2020-09-01T15:18:16.996865Z"
        },
        "papermill": {
          "duration": 0.035985,
          "end_time": "2020-09-01T15:18:16.997028",
          "exception": false,
          "start_time": "2020-09-01T15:18:16.961043",
          "status": "completed"
        },
        "tags": [],
        "id": "G2I0MqnG320o",
        "colab_type": "code",
        "colab": {}
      },
      "source": [
        "# prediction on test samples\n",
        "\n",
        "preds1 = pd.DataFrame(model.predict_proba(test_df), \n",
        "                     # index=X_test_post_encoding.index, \n",
        "                     columns= ['prob_0', 'prob_1'])\n",
        "# test_df = pd.concat([X_test_post_encoding, y_test, preds], axis = 1)"
      ],
      "execution_count": 41,
      "outputs": []
    },
    {
      "cell_type": "code",
      "metadata": {
        "execution": {
          "iopub.execute_input": "2020-09-01T15:18:17.056348Z",
          "iopub.status.busy": "2020-09-01T15:18:17.055382Z",
          "iopub.status.idle": "2020-09-01T15:18:17.061333Z",
          "shell.execute_reply": "2020-09-01T15:18:17.060715Z"
        },
        "papermill": {
          "duration": 0.037721,
          "end_time": "2020-09-01T15:18:17.061451",
          "exception": false,
          "start_time": "2020-09-01T15:18:17.023730",
          "status": "completed"
        },
        "tags": [],
        "id": "dxIcUneT320r",
        "colab_type": "code",
        "colab": {}
      },
      "source": [
        "# precision recall curve\n",
        "\n",
        "lr_precision1, lr_recall1, _1 = precision_recall_curve(y_true = y_test, probas_pred = preds1.prob_1)"
      ],
      "execution_count": 42,
      "outputs": []
    },
    {
      "cell_type": "code",
      "metadata": {
        "execution": {
          "iopub.execute_input": "2020-09-01T15:18:17.131617Z",
          "iopub.status.busy": "2020-09-01T15:18:17.129954Z",
          "iopub.status.idle": "2020-09-01T15:18:17.340230Z",
          "shell.execute_reply": "2020-09-01T15:18:17.340790Z"
        },
        "papermill": {
          "duration": 0.252946,
          "end_time": "2020-09-01T15:18:17.340981",
          "exception": false,
          "start_time": "2020-09-01T15:18:17.088035",
          "status": "completed"
        },
        "tags": [],
        "id": "DH06NxNE320u",
        "colab_type": "code",
        "colab": {
          "base_uri": "https://localhost:8080/",
          "height": 312
        },
        "outputId": "35d57409-dd83-4a56-8667-f31520345bbc"
      },
      "source": [
        "# Precision recall curve\n",
        "\n",
        "plt.plot(lr_recall1, lr_precision1)\n",
        "plt.grid()\n",
        "plt.xlabel('Recall')\n",
        "plt.ylabel('Precision')\n",
        "plt.title('Precision-Recall Curve - LogisticRegression')"
      ],
      "execution_count": 43,
      "outputs": [
        {
          "output_type": "execute_result",
          "data": {
            "text/plain": [
              "Text(0.5, 1.0, 'Precision-Recall Curve - LogisticRegression')"
            ]
          },
          "metadata": {
            "tags": []
          },
          "execution_count": 43
        },
        {
          "output_type": "display_data",
          "data": {
            "image/png": "[encoded data removed]",
            "text/plain": [
              "<Figure size 432x288 with 1 Axes>"
            ]
          },
          "metadata": {
            "tags": [],
            "needs_background": "light"
          }
        }
      ]
    },
    {
      "cell_type": "code",
      "metadata": {
        "papermill": {
          "duration": 0.026756,
          "end_time": "2020-09-01T15:18:17.395402",
          "exception": false,
          "start_time": "2020-09-01T15:18:17.368646",
          "status": "completed"
        },
        "tags": [],
        "id": "XIP-SBdC3202",
        "colab_type": "code",
        "colab": {
          "base_uri": "https://localhost:8080/",
          "height": 111
        },
        "outputId": "f23567dd-fb4a-46fe-e7b2-e0cadd285f2f"
      },
      "source": [
        "test_data.head(2)"
      ],
      "execution_count": 44,
      "outputs": [
        {
          "output_type": "execute_result",
          "data": {
            "text/html": [
              "<div>\n",
              "<style scoped>\n",
              "    .dataframe tbody tr th:only-of-type {\n",
              "        vertical-align: middle;\n",
              "    }\n",
              "\n",
              "    .dataframe tbody tr th {\n",
              "        vertical-align: top;\n",
              "    }\n",
              "\n",
              "    .dataframe thead th {\n",
              "        text-align: right;\n",
              "    }\n",
              "</style>\n",
              "<table border=\"1\" class=\"dataframe\">\n",
              "  <thead>\n",
              "    <tr style=\"text-align: right;\">\n",
              "      <th></th>\n",
              "      <th>id</th>\n",
              "      <th>keyword</th>\n",
              "      <th>location</th>\n",
              "      <th>text</th>\n",
              "    </tr>\n",
              "  </thead>\n",
              "  <tbody>\n",
              "    <tr>\n",
              "      <th>0</th>\n",
              "      <td>0</td>\n",
              "      <td>NaN</td>\n",
              "      <td>NaN</td>\n",
              "      <td>Just happened a terrible car crash</td>\n",
              "    </tr>\n",
              "    <tr>\n",
              "      <th>1</th>\n",
              "      <td>2</td>\n",
              "      <td>NaN</td>\n",
              "      <td>NaN</td>\n",
              "      <td>Heard about #earthquake is different cities, s...</td>\n",
              "    </tr>\n",
              "  </tbody>\n",
              "</table>\n",
              "</div>"
            ],
            "text/plain": [
              "   id keyword location                                               text\n",
              "0   0     NaN      NaN                 Just happened a terrible car crash\n",
              "1   2     NaN      NaN  Heard about #earthquake is different cities, s..."
            ]
          },
          "metadata": {
            "tags": []
          },
          "execution_count": 44
        }
      ]
    },
    {
      "cell_type": "code",
      "metadata": {
        "id": "ru53_taPRoBf",
        "colab_type": "code",
        "colab": {}
      },
      "source": [
        "from xgboost import XGBClassifier"
      ],
      "execution_count": 49,
      "outputs": []
    },
    {
      "cell_type": "code",
      "metadata": {
        "id": "TAODMwcKRtVS",
        "colab_type": "code",
        "colab": {}
      },
      "source": [
        "xgb_model = XGBClassifier(n_estimators=800, max_depth=4, learning_rate=.01)"
      ],
      "execution_count": 70,
      "outputs": []
    },
    {
      "cell_type": "code",
      "metadata": {
        "id": "yGYLJbF9SH1n",
        "colab_type": "code",
        "colab": {
          "base_uri": "https://localhost:8080/",
          "height": 1000
        },
        "outputId": "1a2424cb-039c-43e5-9f41-b027af5948c3"
      },
      "source": [
        "xgb_model.fit(train_df, y_train, eval_metric='logloss', eval_set=[(test_df, y_test)])"
      ],
      "execution_count": 71,
      "outputs": [
        {
          "output_type": "stream",
          "text": [
            "[0]\tvalidation_0-logloss:0.692365\n",
            "[1]\tvalidation_0-logloss:0.69157\n",
            "[2]\tvalidation_0-logloss:0.690781\n",
            "[3]\tvalidation_0-logloss:0.690018\n",
            "[4]\tvalidation_0-logloss:0.689303\n",
            "[5]\tvalidation_0-logloss:0.688555\n",
            "[6]\tvalidation_0-logloss:0.687843\n",
            "[7]\tvalidation_0-logloss:0.687134\n",
            "[8]\tvalidation_0-logloss:0.686433\n",
            "[9]\tvalidation_0-logloss:0.68576\n",
            "[10]\tvalidation_0-logloss:0.685092\n",
            "[11]\tvalidation_0-logloss:0.684425\n",
            "[12]\tvalidation_0-logloss:0.683785\n",
            "[13]\tvalidation_0-logloss:0.683125\n",
            "[14]\tvalidation_0-logloss:0.682501\n",
            "[15]\tvalidation_0-logloss:0.681891\n",
            "[16]\tvalidation_0-logloss:0.681279\n",
            "[17]\tvalidation_0-logloss:0.680667\n",
            "[18]\tvalidation_0-logloss:0.680183\n",
            "[19]\tvalidation_0-logloss:0.679592\n",
            "[20]\tvalidation_0-logloss:0.679082\n",
            "[21]\tvalidation_0-logloss:0.678488\n",
            "[22]\tvalidation_0-logloss:0.678023\n",
            "[23]\tvalidation_0-logloss:0.677485\n",
            "[24]\tvalidation_0-logloss:0.677002\n",
            "[25]\tvalidation_0-logloss:0.676461\n",
            "[26]\tvalidation_0-logloss:0.676015\n",
            "[27]\tvalidation_0-logloss:0.675484\n",
            "[28]\tvalidation_0-logloss:0.674972\n",
            "[29]\tvalidation_0-logloss:0.674532\n",
            "[30]\tvalidation_0-logloss:0.674016\n",
            "[31]\tvalidation_0-logloss:0.673585\n",
            "[32]\tvalidation_0-logloss:0.673095\n",
            "[33]\tvalidation_0-logloss:0.672611\n",
            "[34]\tvalidation_0-logloss:0.672151\n",
            "[35]\tvalidation_0-logloss:0.671751\n",
            "[36]\tvalidation_0-logloss:0.671285\n",
            "[37]\tvalidation_0-logloss:0.670831\n",
            "[38]\tvalidation_0-logloss:0.670414\n",
            "[39]\tvalidation_0-logloss:0.66994\n",
            "[40]\tvalidation_0-logloss:0.669565\n",
            "[41]\tvalidation_0-logloss:0.669136\n",
            "[42]\tvalidation_0-logloss:0.668702\n",
            "[43]\tvalidation_0-logloss:0.66832\n",
            "[44]\tvalidation_0-logloss:0.667919\n",
            "[45]\tvalidation_0-logloss:0.667526\n",
            "[46]\tvalidation_0-logloss:0.667128\n",
            "[47]\tvalidation_0-logloss:0.66676\n",
            "[48]\tvalidation_0-logloss:0.666399\n",
            "[49]\tvalidation_0-logloss:0.66606\n",
            "[50]\tvalidation_0-logloss:0.665662\n",
            "[51]\tvalidation_0-logloss:0.665307\n",
            "[52]\tvalidation_0-logloss:0.664893\n",
            "[53]\tvalidation_0-logloss:0.664581\n",
            "[54]\tvalidation_0-logloss:0.664195\n",
            "[55]\tvalidation_0-logloss:0.663852\n",
            "[56]\tvalidation_0-logloss:0.663512\n",
            "[57]\tvalidation_0-logloss:0.66316\n",
            "[58]\tvalidation_0-logloss:0.66285\n",
            "[59]\tvalidation_0-logloss:0.66249\n",
            "[60]\tvalidation_0-logloss:0.662178\n",
            "[61]\tvalidation_0-logloss:0.661886\n",
            "[62]\tvalidation_0-logloss:0.66156\n",
            "[63]\tvalidation_0-logloss:0.661266\n",
            "[64]\tvalidation_0-logloss:0.660957\n",
            "[65]\tvalidation_0-logloss:0.660583\n",
            "[66]\tvalidation_0-logloss:0.660251\n",
            "[67]\tvalidation_0-logloss:0.659892\n",
            "[68]\tvalidation_0-logloss:0.659556\n",
            "[69]\tvalidation_0-logloss:0.659202\n",
            "[70]\tvalidation_0-logloss:0.658919\n",
            "[71]\tvalidation_0-logloss:0.658614\n",
            "[72]\tvalidation_0-logloss:0.65839\n",
            "[73]\tvalidation_0-logloss:0.658127\n",
            "[74]\tvalidation_0-logloss:0.657778\n",
            "[75]\tvalidation_0-logloss:0.657464\n",
            "[76]\tvalidation_0-logloss:0.657175\n",
            "[77]\tvalidation_0-logloss:0.656924\n",
            "[78]\tvalidation_0-logloss:0.656627\n",
            "[79]\tvalidation_0-logloss:0.656355\n",
            "[80]\tvalidation_0-logloss:0.656081\n",
            "[81]\tvalidation_0-logloss:0.655778\n",
            "[82]\tvalidation_0-logloss:0.655489\n",
            "[83]\tvalidation_0-logloss:0.655223\n",
            "[84]\tvalidation_0-logloss:0.654989\n",
            "[85]\tvalidation_0-logloss:0.654746\n",
            "[86]\tvalidation_0-logloss:0.654427\n",
            "[87]\tvalidation_0-logloss:0.654183\n",
            "[88]\tvalidation_0-logloss:0.653909\n",
            "[89]\tvalidation_0-logloss:0.653703\n",
            "[90]\tvalidation_0-logloss:0.653396\n",
            "[91]\tvalidation_0-logloss:0.653173\n",
            "[92]\tvalidation_0-logloss:0.652902\n",
            "[93]\tvalidation_0-logloss:0.652656\n",
            "[94]\tvalidation_0-logloss:0.652469\n",
            "[95]\tvalidation_0-logloss:0.6522\n",
            "[96]\tvalidation_0-logloss:0.651919\n",
            "[97]\tvalidation_0-logloss:0.651708\n",
            "[98]\tvalidation_0-logloss:0.651503\n",
            "[99]\tvalidation_0-logloss:0.651212\n",
            "[100]\tvalidation_0-logloss:0.650948\n",
            "[101]\tvalidation_0-logloss:0.650764\n",
            "[102]\tvalidation_0-logloss:0.650516\n",
            "[103]\tvalidation_0-logloss:0.650289\n",
            "[104]\tvalidation_0-logloss:0.65002\n",
            "[105]\tvalidation_0-logloss:0.649741\n",
            "[106]\tvalidation_0-logloss:0.64946\n",
            "[107]\tvalidation_0-logloss:0.649287\n",
            "[108]\tvalidation_0-logloss:0.649077\n",
            "[109]\tvalidation_0-logloss:0.648872\n",
            "[110]\tvalidation_0-logloss:0.648586\n",
            "[111]\tvalidation_0-logloss:0.648325\n",
            "[112]\tvalidation_0-logloss:0.648121\n",
            "[113]\tvalidation_0-logloss:0.647894\n",
            "[114]\tvalidation_0-logloss:0.647627\n",
            "[115]\tvalidation_0-logloss:0.647441\n",
            "[116]\tvalidation_0-logloss:0.647174\n",
            "[117]\tvalidation_0-logloss:0.646966\n",
            "[118]\tvalidation_0-logloss:0.646737\n",
            "[119]\tvalidation_0-logloss:0.646535\n",
            "[120]\tvalidation_0-logloss:0.646297\n",
            "[121]\tvalidation_0-logloss:0.646076\n",
            "[122]\tvalidation_0-logloss:0.645853\n",
            "[123]\tvalidation_0-logloss:0.645625\n",
            "[124]\tvalidation_0-logloss:0.645405\n",
            "[125]\tvalidation_0-logloss:0.645218\n",
            "[126]\tvalidation_0-logloss:0.645045\n",
            "[127]\tvalidation_0-logloss:0.64477\n",
            "[128]\tvalidation_0-logloss:0.644531\n",
            "[129]\tvalidation_0-logloss:0.644347\n",
            "[130]\tvalidation_0-logloss:0.644114\n",
            "[131]\tvalidation_0-logloss:0.643943\n",
            "[132]\tvalidation_0-logloss:0.643756\n",
            "[133]\tvalidation_0-logloss:0.64352\n",
            "[134]\tvalidation_0-logloss:0.643342\n",
            "[135]\tvalidation_0-logloss:0.643122\n",
            "[136]\tvalidation_0-logloss:0.642911\n",
            "[137]\tvalidation_0-logloss:0.642695\n",
            "[138]\tvalidation_0-logloss:0.64251\n",
            "[139]\tvalidation_0-logloss:0.642319\n",
            "[140]\tvalidation_0-logloss:0.642095\n",
            "[141]\tvalidation_0-logloss:0.641921\n",
            "[142]\tvalidation_0-logloss:0.641704\n",
            "[143]\tvalidation_0-logloss:0.641461\n",
            "[144]\tvalidation_0-logloss:0.641308\n",
            "[145]\tvalidation_0-logloss:0.641132\n",
            "[146]\tvalidation_0-logloss:0.640926\n",
            "[147]\tvalidation_0-logloss:0.64075\n",
            "[148]\tvalidation_0-logloss:0.640537\n",
            "[149]\tvalidation_0-logloss:0.640301\n",
            "[150]\tvalidation_0-logloss:0.640133\n",
            "[151]\tvalidation_0-logloss:0.640001\n",
            "[152]\tvalidation_0-logloss:0.63977\n",
            "[153]\tvalidation_0-logloss:0.639558\n",
            "[154]\tvalidation_0-logloss:0.639389\n",
            "[155]\tvalidation_0-logloss:0.639216\n",
            "[156]\tvalidation_0-logloss:0.638998\n",
            "[157]\tvalidation_0-logloss:0.638834\n",
            "[158]\tvalidation_0-logloss:0.638685\n",
            "[159]\tvalidation_0-logloss:0.638498\n",
            "[160]\tvalidation_0-logloss:0.638304\n",
            "[161]\tvalidation_0-logloss:0.638123\n",
            "[162]\tvalidation_0-logloss:0.637905\n",
            "[163]\tvalidation_0-logloss:0.637708\n",
            "[164]\tvalidation_0-logloss:0.637557\n",
            "[165]\tvalidation_0-logloss:0.637372\n",
            "[166]\tvalidation_0-logloss:0.637174\n",
            "[167]\tvalidation_0-logloss:0.637035\n",
            "[168]\tvalidation_0-logloss:0.636829\n",
            "[169]\tvalidation_0-logloss:0.636649\n",
            "[170]\tvalidation_0-logloss:0.636471\n",
            "[171]\tvalidation_0-logloss:0.636293\n",
            "[172]\tvalidation_0-logloss:0.636135\n",
            "[173]\tvalidation_0-logloss:0.635966\n",
            "[174]\tvalidation_0-logloss:0.635779\n",
            "[175]\tvalidation_0-logloss:0.635631\n",
            "[176]\tvalidation_0-logloss:0.63542\n",
            "[177]\tvalidation_0-logloss:0.63523\n",
            "[178]\tvalidation_0-logloss:0.635041\n",
            "[179]\tvalidation_0-logloss:0.634886\n",
            "[180]\tvalidation_0-logloss:0.63474\n",
            "[181]\tvalidation_0-logloss:0.634555\n",
            "[182]\tvalidation_0-logloss:0.634384\n",
            "[183]\tvalidation_0-logloss:0.63418\n",
            "[184]\tvalidation_0-logloss:0.634037\n",
            "[185]\tvalidation_0-logloss:0.633914\n",
            "[186]\tvalidation_0-logloss:0.63372\n",
            "[187]\tvalidation_0-logloss:0.633538\n",
            "[188]\tvalidation_0-logloss:0.633359\n",
            "[189]\tvalidation_0-logloss:0.633198\n",
            "[190]\tvalidation_0-logloss:0.633032\n",
            "[191]\tvalidation_0-logloss:0.632887\n",
            "[192]\tvalidation_0-logloss:0.632684\n",
            "[193]\tvalidation_0-logloss:0.632532\n",
            "[194]\tvalidation_0-logloss:0.632401\n",
            "[195]\tvalidation_0-logloss:0.632242\n",
            "[196]\tvalidation_0-logloss:0.632101\n",
            "[197]\tvalidation_0-logloss:0.631931\n",
            "[198]\tvalidation_0-logloss:0.631756\n",
            "[199]\tvalidation_0-logloss:0.631594\n",
            "[200]\tvalidation_0-logloss:0.631436\n",
            "[201]\tvalidation_0-logloss:0.631253\n",
            "[202]\tvalidation_0-logloss:0.631063\n",
            "[203]\tvalidation_0-logloss:0.630906\n",
            "[204]\tvalidation_0-logloss:0.630785\n",
            "[205]\tvalidation_0-logloss:0.630641\n",
            "[206]\tvalidation_0-logloss:0.630465\n",
            "[207]\tvalidation_0-logloss:0.630291\n",
            "[208]\tvalidation_0-logloss:0.630144\n",
            "[209]\tvalidation_0-logloss:0.629998\n",
            "[210]\tvalidation_0-logloss:0.629866\n",
            "[211]\tvalidation_0-logloss:0.629684\n",
            "[212]\tvalidation_0-logloss:0.629564\n",
            "[213]\tvalidation_0-logloss:0.629384\n",
            "[214]\tvalidation_0-logloss:0.629228\n",
            "[215]\tvalidation_0-logloss:0.629078\n",
            "[216]\tvalidation_0-logloss:0.628902\n",
            "[217]\tvalidation_0-logloss:0.628783\n",
            "[218]\tvalidation_0-logloss:0.628612\n",
            "[219]\tvalidation_0-logloss:0.628454\n",
            "[220]\tvalidation_0-logloss:0.62829\n",
            "[221]\tvalidation_0-logloss:0.628156\n",
            "[222]\tvalidation_0-logloss:0.628041\n",
            "[223]\tvalidation_0-logloss:0.627896\n",
            "[224]\tvalidation_0-logloss:0.627716\n",
            "[225]\tvalidation_0-logloss:0.627594\n",
            "[226]\tvalidation_0-logloss:0.627461\n",
            "[227]\tvalidation_0-logloss:0.627313\n",
            "[228]\tvalidation_0-logloss:0.627156\n",
            "[229]\tvalidation_0-logloss:0.627029\n",
            "[230]\tvalidation_0-logloss:0.626874\n",
            "[231]\tvalidation_0-logloss:0.626725\n",
            "[232]\tvalidation_0-logloss:0.626587\n",
            "[233]\tvalidation_0-logloss:0.626455\n",
            "[234]\tvalidation_0-logloss:0.626305\n",
            "[235]\tvalidation_0-logloss:0.626148\n",
            "[236]\tvalidation_0-logloss:0.626005\n",
            "[237]\tvalidation_0-logloss:0.625847\n",
            "[238]\tvalidation_0-logloss:0.625718\n",
            "[239]\tvalidation_0-logloss:0.62559\n",
            "[240]\tvalidation_0-logloss:0.625426\n",
            "[241]\tvalidation_0-logloss:0.62529\n",
            "[242]\tvalidation_0-logloss:0.62514\n",
            "[243]\tvalidation_0-logloss:0.625015\n",
            "[244]\tvalidation_0-logloss:0.624883\n",
            "[245]\tvalidation_0-logloss:0.624742\n",
            "[246]\tvalidation_0-logloss:0.624611\n",
            "[247]\tvalidation_0-logloss:0.624485\n",
            "[248]\tvalidation_0-logloss:0.624345\n",
            "[249]\tvalidation_0-logloss:0.624197\n",
            "[250]\tvalidation_0-logloss:0.624057\n",
            "[251]\tvalidation_0-logloss:0.623913\n",
            "[252]\tvalidation_0-logloss:0.623764\n",
            "[253]\tvalidation_0-logloss:0.623647\n",
            "[254]\tvalidation_0-logloss:0.623504\n",
            "[255]\tvalidation_0-logloss:0.623346\n",
            "[256]\tvalidation_0-logloss:0.623181\n",
            "[257]\tvalidation_0-logloss:0.62303\n",
            "[258]\tvalidation_0-logloss:0.622924\n",
            "[259]\tvalidation_0-logloss:0.622787\n",
            "[260]\tvalidation_0-logloss:0.622629\n",
            "[261]\tvalidation_0-logloss:0.622486\n",
            "[262]\tvalidation_0-logloss:0.62236\n",
            "[263]\tvalidation_0-logloss:0.622226\n",
            "[264]\tvalidation_0-logloss:0.622077\n",
            "[265]\tvalidation_0-logloss:0.62195\n",
            "[266]\tvalidation_0-logloss:0.621821\n",
            "[267]\tvalidation_0-logloss:0.621686\n",
            "[268]\tvalidation_0-logloss:0.621561\n",
            "[269]\tvalidation_0-logloss:0.6214\n",
            "[270]\tvalidation_0-logloss:0.621302\n",
            "[271]\tvalidation_0-logloss:0.621148\n",
            "[272]\tvalidation_0-logloss:0.620993\n",
            "[273]\tvalidation_0-logloss:0.620897\n",
            "[274]\tvalidation_0-logloss:0.620751\n",
            "[275]\tvalidation_0-logloss:0.620606\n",
            "[276]\tvalidation_0-logloss:0.620467\n",
            "[277]\tvalidation_0-logloss:0.620329\n",
            "[278]\tvalidation_0-logloss:0.620206\n",
            "[279]\tvalidation_0-logloss:0.620111\n",
            "[280]\tvalidation_0-logloss:0.619996\n",
            "[281]\tvalidation_0-logloss:0.619867\n",
            "[282]\tvalidation_0-logloss:0.619718\n",
            "[283]\tvalidation_0-logloss:0.619615\n",
            "[284]\tvalidation_0-logloss:0.61947\n",
            "[285]\tvalidation_0-logloss:0.619313\n",
            "[286]\tvalidation_0-logloss:0.61918\n",
            "[287]\tvalidation_0-logloss:0.619087\n",
            "[288]\tvalidation_0-logloss:0.618934\n",
            "[289]\tvalidation_0-logloss:0.618816\n",
            "[290]\tvalidation_0-logloss:0.618762\n",
            "[291]\tvalidation_0-logloss:0.618611\n",
            "[292]\tvalidation_0-logloss:0.618511\n",
            "[293]\tvalidation_0-logloss:0.618378\n",
            "[294]\tvalidation_0-logloss:0.618231\n",
            "[295]\tvalidation_0-logloss:0.618099\n",
            "[296]\tvalidation_0-logloss:0.617967\n",
            "[297]\tvalidation_0-logloss:0.617839\n",
            "[298]\tvalidation_0-logloss:0.617706\n",
            "[299]\tvalidation_0-logloss:0.617592\n",
            "[300]\tvalidation_0-logloss:0.617476\n",
            "[301]\tvalidation_0-logloss:0.617357\n",
            "[302]\tvalidation_0-logloss:0.617243\n",
            "[303]\tvalidation_0-logloss:0.617096\n",
            "[304]\tvalidation_0-logloss:0.616991\n",
            "[305]\tvalidation_0-logloss:0.616863\n",
            "[306]\tvalidation_0-logloss:0.616739\n",
            "[307]\tvalidation_0-logloss:0.61663\n",
            "[308]\tvalidation_0-logloss:0.616484\n",
            "[309]\tvalidation_0-logloss:0.616356\n",
            "[310]\tvalidation_0-logloss:0.616231\n",
            "[311]\tvalidation_0-logloss:0.616115\n",
            "[312]\tvalidation_0-logloss:0.615974\n",
            "[313]\tvalidation_0-logloss:0.61585\n",
            "[314]\tvalidation_0-logloss:0.61574\n",
            "[315]\tvalidation_0-logloss:0.615628\n",
            "[316]\tvalidation_0-logloss:0.615516\n",
            "[317]\tvalidation_0-logloss:0.615377\n",
            "[318]\tvalidation_0-logloss:0.615261\n",
            "[319]\tvalidation_0-logloss:0.615138\n",
            "[320]\tvalidation_0-logloss:0.615021\n",
            "[321]\tvalidation_0-logloss:0.61493\n",
            "[322]\tvalidation_0-logloss:0.614812\n",
            "[323]\tvalidation_0-logloss:0.61469\n",
            "[324]\tvalidation_0-logloss:0.614556\n",
            "[325]\tvalidation_0-logloss:0.614449\n",
            "[326]\tvalidation_0-logloss:0.614343\n",
            "[327]\tvalidation_0-logloss:0.614206\n",
            "[328]\tvalidation_0-logloss:0.614085\n",
            "[329]\tvalidation_0-logloss:0.614007\n",
            "[330]\tvalidation_0-logloss:0.613915\n",
            "[331]\tvalidation_0-logloss:0.613779\n",
            "[332]\tvalidation_0-logloss:0.613683\n",
            "[333]\tvalidation_0-logloss:0.613559\n",
            "[334]\tvalidation_0-logloss:0.613466\n",
            "[335]\tvalidation_0-logloss:0.61333\n",
            "[336]\tvalidation_0-logloss:0.613235\n",
            "[337]\tvalidation_0-logloss:0.61312\n",
            "[338]\tvalidation_0-logloss:0.613012\n",
            "[339]\tvalidation_0-logloss:0.612904\n",
            "[340]\tvalidation_0-logloss:0.612758\n",
            "[341]\tvalidation_0-logloss:0.612653\n",
            "[342]\tvalidation_0-logloss:0.612547\n",
            "[343]\tvalidation_0-logloss:0.612406\n",
            "[344]\tvalidation_0-logloss:0.612297\n",
            "[345]\tvalidation_0-logloss:0.612196\n",
            "[346]\tvalidation_0-logloss:0.612096\n",
            "[347]\tvalidation_0-logloss:0.612004\n",
            "[348]\tvalidation_0-logloss:0.611895\n",
            "[349]\tvalidation_0-logloss:0.61178\n",
            "[350]\tvalidation_0-logloss:0.611668\n",
            "[351]\tvalidation_0-logloss:0.611545\n",
            "[352]\tvalidation_0-logloss:0.611464\n",
            "[353]\tvalidation_0-logloss:0.611348\n",
            "[354]\tvalidation_0-logloss:0.611219\n",
            "[355]\tvalidation_0-logloss:0.611138\n",
            "[356]\tvalidation_0-logloss:0.61103\n",
            "[357]\tvalidation_0-logloss:0.61094\n",
            "[358]\tvalidation_0-logloss:0.610833\n",
            "[359]\tvalidation_0-logloss:0.610739\n",
            "[360]\tvalidation_0-logloss:0.610645\n",
            "[361]\tvalidation_0-logloss:0.610538\n",
            "[362]\tvalidation_0-logloss:0.610426\n",
            "[363]\tvalidation_0-logloss:0.610327\n",
            "[364]\tvalidation_0-logloss:0.610206\n",
            "[365]\tvalidation_0-logloss:0.610122\n",
            "[366]\tvalidation_0-logloss:0.609997\n",
            "[367]\tvalidation_0-logloss:0.609872\n",
            "[368]\tvalidation_0-logloss:0.609761\n",
            "[369]\tvalidation_0-logloss:0.609677\n",
            "[370]\tvalidation_0-logloss:0.609576\n",
            "[371]\tvalidation_0-logloss:0.609469\n",
            "[372]\tvalidation_0-logloss:0.609365\n",
            "[373]\tvalidation_0-logloss:0.609262\n",
            "[374]\tvalidation_0-logloss:0.609202\n",
            "[375]\tvalidation_0-logloss:0.609086\n",
            "[376]\tvalidation_0-logloss:0.60894\n",
            "[377]\tvalidation_0-logloss:0.60886\n",
            "[378]\tvalidation_0-logloss:0.60875\n",
            "[379]\tvalidation_0-logloss:0.608632\n",
            "[380]\tvalidation_0-logloss:0.608535\n",
            "[381]\tvalidation_0-logloss:0.60843\n",
            "[382]\tvalidation_0-logloss:0.608317\n",
            "[383]\tvalidation_0-logloss:0.608205\n",
            "[384]\tvalidation_0-logloss:0.608128\n",
            "[385]\tvalidation_0-logloss:0.608026\n",
            "[386]\tvalidation_0-logloss:0.607939\n",
            "[387]\tvalidation_0-logloss:0.607839\n",
            "[388]\tvalidation_0-logloss:0.607754\n",
            "[389]\tvalidation_0-logloss:0.607623\n",
            "[390]\tvalidation_0-logloss:0.607537\n",
            "[391]\tvalidation_0-logloss:0.607415\n",
            "[392]\tvalidation_0-logloss:0.607316\n",
            "[393]\tvalidation_0-logloss:0.607236\n",
            "[394]\tvalidation_0-logloss:0.607144\n",
            "[395]\tvalidation_0-logloss:0.607051\n",
            "[396]\tvalidation_0-logloss:0.606958\n",
            "[397]\tvalidation_0-logloss:0.606862\n",
            "[398]\tvalidation_0-logloss:0.606746\n",
            "[399]\tvalidation_0-logloss:0.606629\n",
            "[400]\tvalidation_0-logloss:0.606513\n",
            "[401]\tvalidation_0-logloss:0.606449\n",
            "[402]\tvalidation_0-logloss:0.606365\n",
            "[403]\tvalidation_0-logloss:0.606276\n",
            "[404]\tvalidation_0-logloss:0.606182\n",
            "[405]\tvalidation_0-logloss:0.606082\n",
            "[406]\tvalidation_0-logloss:0.605994\n",
            "[407]\tvalidation_0-logloss:0.605887\n",
            "[408]\tvalidation_0-logloss:0.60575\n",
            "[409]\tvalidation_0-logloss:0.605665\n",
            "[410]\tvalidation_0-logloss:0.605568\n",
            "[411]\tvalidation_0-logloss:0.605447\n",
            "[412]\tvalidation_0-logloss:0.605334\n",
            "[413]\tvalidation_0-logloss:0.605246\n",
            "[414]\tvalidation_0-logloss:0.605149\n",
            "[415]\tvalidation_0-logloss:0.60506\n",
            "[416]\tvalidation_0-logloss:0.604973\n",
            "[417]\tvalidation_0-logloss:0.60488\n",
            "[418]\tvalidation_0-logloss:0.604797\n",
            "[419]\tvalidation_0-logloss:0.60469\n",
            "[420]\tvalidation_0-logloss:0.604578\n",
            "[421]\tvalidation_0-logloss:0.604486\n",
            "[422]\tvalidation_0-logloss:0.604405\n",
            "[423]\tvalidation_0-logloss:0.604316\n",
            "[424]\tvalidation_0-logloss:0.604258\n",
            "[425]\tvalidation_0-logloss:0.604146\n",
            "[426]\tvalidation_0-logloss:0.604068\n",
            "[427]\tvalidation_0-logloss:0.603954\n",
            "[428]\tvalidation_0-logloss:0.603844\n",
            "[429]\tvalidation_0-logloss:0.603765\n",
            "[430]\tvalidation_0-logloss:0.603669\n",
            "[431]\tvalidation_0-logloss:0.603587\n",
            "[432]\tvalidation_0-logloss:0.603503\n",
            "[433]\tvalidation_0-logloss:0.603388\n",
            "[434]\tvalidation_0-logloss:0.603316\n",
            "[435]\tvalidation_0-logloss:0.603223\n",
            "[436]\tvalidation_0-logloss:0.6031\n",
            "[437]\tvalidation_0-logloss:0.602995\n",
            "[438]\tvalidation_0-logloss:0.60293\n",
            "[439]\tvalidation_0-logloss:0.602833\n",
            "[440]\tvalidation_0-logloss:0.602757\n",
            "[441]\tvalidation_0-logloss:0.602647\n",
            "[442]\tvalidation_0-logloss:0.602554\n",
            "[443]\tvalidation_0-logloss:0.602452\n",
            "[444]\tvalidation_0-logloss:0.602345\n",
            "[445]\tvalidation_0-logloss:0.602245\n",
            "[446]\tvalidation_0-logloss:0.602161\n",
            "[447]\tvalidation_0-logloss:0.602089\n",
            "[448]\tvalidation_0-logloss:0.601959\n",
            "[449]\tvalidation_0-logloss:0.60188\n",
            "[450]\tvalidation_0-logloss:0.601766\n",
            "[451]\tvalidation_0-logloss:0.601665\n",
            "[452]\tvalidation_0-logloss:0.601588\n",
            "[453]\tvalidation_0-logloss:0.601481\n",
            "[454]\tvalidation_0-logloss:0.601393\n",
            "[455]\tvalidation_0-logloss:0.601302\n",
            "[456]\tvalidation_0-logloss:0.601228\n",
            "[457]\tvalidation_0-logloss:0.601121\n",
            "[458]\tvalidation_0-logloss:0.601041\n",
            "[459]\tvalidation_0-logloss:0.60097\n",
            "[460]\tvalidation_0-logloss:0.600869\n",
            "[461]\tvalidation_0-logloss:0.600834\n",
            "[462]\tvalidation_0-logloss:0.600727\n",
            "[463]\tvalidation_0-logloss:0.600621\n",
            "[464]\tvalidation_0-logloss:0.600547\n",
            "[465]\tvalidation_0-logloss:0.600463\n",
            "[466]\tvalidation_0-logloss:0.600352\n",
            "[467]\tvalidation_0-logloss:0.600263\n",
            "[468]\tvalidation_0-logloss:0.600147\n",
            "[469]\tvalidation_0-logloss:0.600062\n",
            "[470]\tvalidation_0-logloss:0.599971\n",
            "[471]\tvalidation_0-logloss:0.59989\n",
            "[472]\tvalidation_0-logloss:0.599829\n",
            "[473]\tvalidation_0-logloss:0.599751\n",
            "[474]\tvalidation_0-logloss:0.59968\n",
            "[475]\tvalidation_0-logloss:0.599597\n",
            "[476]\tvalidation_0-logloss:0.599492\n",
            "[477]\tvalidation_0-logloss:0.599405\n",
            "[478]\tvalidation_0-logloss:0.59932\n",
            "[479]\tvalidation_0-logloss:0.599217\n",
            "[480]\tvalidation_0-logloss:0.599102\n",
            "[481]\tvalidation_0-logloss:0.59901\n",
            "[482]\tvalidation_0-logloss:0.59892\n",
            "[483]\tvalidation_0-logloss:0.59883\n",
            "[484]\tvalidation_0-logloss:0.598721\n",
            "[485]\tvalidation_0-logloss:0.598615\n",
            "[486]\tvalidation_0-logloss:0.598534\n",
            "[487]\tvalidation_0-logloss:0.598457\n",
            "[488]\tvalidation_0-logloss:0.598372\n",
            "[489]\tvalidation_0-logloss:0.59829\n",
            "[490]\tvalidation_0-logloss:0.598214\n",
            "[491]\tvalidation_0-logloss:0.598119\n",
            "[492]\tvalidation_0-logloss:0.598031\n",
            "[493]\tvalidation_0-logloss:0.597939\n",
            "[494]\tvalidation_0-logloss:0.597875\n",
            "[495]\tvalidation_0-logloss:0.597768\n",
            "[496]\tvalidation_0-logloss:0.597674\n",
            "[497]\tvalidation_0-logloss:0.597603\n",
            "[498]\tvalidation_0-logloss:0.597547\n",
            "[499]\tvalidation_0-logloss:0.597432\n",
            "[500]\tvalidation_0-logloss:0.597344\n",
            "[501]\tvalidation_0-logloss:0.597218\n",
            "[502]\tvalidation_0-logloss:0.597145\n",
            "[503]\tvalidation_0-logloss:0.597058\n",
            "[504]\tvalidation_0-logloss:0.596988\n",
            "[505]\tvalidation_0-logloss:0.596897\n",
            "[506]\tvalidation_0-logloss:0.596809\n",
            "[507]\tvalidation_0-logloss:0.596734\n",
            "[508]\tvalidation_0-logloss:0.596672\n",
            "[509]\tvalidation_0-logloss:0.596579\n",
            "[510]\tvalidation_0-logloss:0.596501\n",
            "[511]\tvalidation_0-logloss:0.596446\n",
            "[512]\tvalidation_0-logloss:0.596346\n",
            "[513]\tvalidation_0-logloss:0.596251\n",
            "[514]\tvalidation_0-logloss:0.596159\n",
            "[515]\tvalidation_0-logloss:0.596064\n",
            "[516]\tvalidation_0-logloss:0.595986\n",
            "[517]\tvalidation_0-logloss:0.595927\n",
            "[518]\tvalidation_0-logloss:0.595824\n",
            "[519]\tvalidation_0-logloss:0.595742\n",
            "[520]\tvalidation_0-logloss:0.59564\n",
            "[521]\tvalidation_0-logloss:0.595524\n",
            "[522]\tvalidation_0-logloss:0.595443\n",
            "[523]\tvalidation_0-logloss:0.595351\n",
            "[524]\tvalidation_0-logloss:0.595271\n",
            "[525]\tvalidation_0-logloss:0.595182\n",
            "[526]\tvalidation_0-logloss:0.595109\n",
            "[527]\tvalidation_0-logloss:0.595028\n",
            "[528]\tvalidation_0-logloss:0.594948\n",
            "[529]\tvalidation_0-logloss:0.594864\n",
            "[530]\tvalidation_0-logloss:0.594798\n",
            "[531]\tvalidation_0-logloss:0.594736\n",
            "[532]\tvalidation_0-logloss:0.594646\n",
            "[533]\tvalidation_0-logloss:0.594505\n",
            "[534]\tvalidation_0-logloss:0.594419\n",
            "[535]\tvalidation_0-logloss:0.594325\n",
            "[536]\tvalidation_0-logloss:0.594232\n",
            "[537]\tvalidation_0-logloss:0.594158\n",
            "[538]\tvalidation_0-logloss:0.594085\n",
            "[539]\tvalidation_0-logloss:0.594012\n",
            "[540]\tvalidation_0-logloss:0.593906\n",
            "[541]\tvalidation_0-logloss:0.593839\n",
            "[542]\tvalidation_0-logloss:0.593756\n",
            "[543]\tvalidation_0-logloss:0.593673\n",
            "[544]\tvalidation_0-logloss:0.593605\n",
            "[545]\tvalidation_0-logloss:0.593541\n",
            "[546]\tvalidation_0-logloss:0.593442\n",
            "[547]\tvalidation_0-logloss:0.593344\n",
            "[548]\tvalidation_0-logloss:0.59326\n",
            "[549]\tvalidation_0-logloss:0.593176\n",
            "[550]\tvalidation_0-logloss:0.593098\n",
            "[551]\tvalidation_0-logloss:0.592984\n",
            "[552]\tvalidation_0-logloss:0.59287\n",
            "[553]\tvalidation_0-logloss:0.592799\n",
            "[554]\tvalidation_0-logloss:0.592726\n",
            "[555]\tvalidation_0-logloss:0.592661\n",
            "[556]\tvalidation_0-logloss:0.592583\n",
            "[557]\tvalidation_0-logloss:0.592515\n",
            "[558]\tvalidation_0-logloss:0.592447\n",
            "[559]\tvalidation_0-logloss:0.592367\n",
            "[560]\tvalidation_0-logloss:0.592263\n",
            "[561]\tvalidation_0-logloss:0.592191\n",
            "[562]\tvalidation_0-logloss:0.592131\n",
            "[563]\tvalidation_0-logloss:0.59206\n",
            "[564]\tvalidation_0-logloss:0.591973\n",
            "[565]\tvalidation_0-logloss:0.5919\n",
            "[566]\tvalidation_0-logloss:0.591858\n",
            "[567]\tvalidation_0-logloss:0.591741\n",
            "[568]\tvalidation_0-logloss:0.591668\n",
            "[569]\tvalidation_0-logloss:0.591599\n",
            "[570]\tvalidation_0-logloss:0.5915\n",
            "[571]\tvalidation_0-logloss:0.591439\n",
            "[572]\tvalidation_0-logloss:0.591385\n",
            "[573]\tvalidation_0-logloss:0.591307\n",
            "[574]\tvalidation_0-logloss:0.591213\n",
            "[575]\tvalidation_0-logloss:0.591136\n",
            "[576]\tvalidation_0-logloss:0.591095\n",
            "[577]\tvalidation_0-logloss:0.591011\n",
            "[578]\tvalidation_0-logloss:0.590917\n",
            "[579]\tvalidation_0-logloss:0.590846\n",
            "[580]\tvalidation_0-logloss:0.590786\n",
            "[581]\tvalidation_0-logloss:0.590694\n",
            "[582]\tvalidation_0-logloss:0.590618\n",
            "[583]\tvalidation_0-logloss:0.590542\n",
            "[584]\tvalidation_0-logloss:0.590512\n",
            "[585]\tvalidation_0-logloss:0.59042\n",
            "[586]\tvalidation_0-logloss:0.590309\n",
            "[587]\tvalidation_0-logloss:0.590233\n",
            "[588]\tvalidation_0-logloss:0.590148\n",
            "[589]\tvalidation_0-logloss:0.590103\n",
            "[590]\tvalidation_0-logloss:0.590055\n",
            "[591]\tvalidation_0-logloss:0.590005\n",
            "[592]\tvalidation_0-logloss:0.589905\n",
            "[593]\tvalidation_0-logloss:0.589816\n",
            "[594]\tvalidation_0-logloss:0.589753\n",
            "[595]\tvalidation_0-logloss:0.589685\n",
            "[596]\tvalidation_0-logloss:0.589622\n",
            "[597]\tvalidation_0-logloss:0.589551\n",
            "[598]\tvalidation_0-logloss:0.589462\n",
            "[599]\tvalidation_0-logloss:0.589375\n",
            "[600]\tvalidation_0-logloss:0.589311\n",
            "[601]\tvalidation_0-logloss:0.589232\n",
            "[602]\tvalidation_0-logloss:0.589195\n",
            "[603]\tvalidation_0-logloss:0.589062\n",
            "[604]\tvalidation_0-logloss:0.589024\n",
            "[605]\tvalidation_0-logloss:0.588917\n",
            "[606]\tvalidation_0-logloss:0.588866\n",
            "[607]\tvalidation_0-logloss:0.588796\n",
            "[608]\tvalidation_0-logloss:0.588741\n",
            "[609]\tvalidation_0-logloss:0.588611\n",
            "[610]\tvalidation_0-logloss:0.588521\n",
            "[611]\tvalidation_0-logloss:0.588406\n",
            "[612]\tvalidation_0-logloss:0.588317\n",
            "[613]\tvalidation_0-logloss:0.588233\n",
            "[614]\tvalidation_0-logloss:0.588164\n",
            "[615]\tvalidation_0-logloss:0.58809\n",
            "[616]\tvalidation_0-logloss:0.588015\n",
            "[617]\tvalidation_0-logloss:0.587933\n",
            "[618]\tvalidation_0-logloss:0.587876\n",
            "[619]\tvalidation_0-logloss:0.587826\n",
            "[620]\tvalidation_0-logloss:0.587777\n",
            "[621]\tvalidation_0-logloss:0.587703\n",
            "[622]\tvalidation_0-logloss:0.587654\n",
            "[623]\tvalidation_0-logloss:0.587582\n",
            "[624]\tvalidation_0-logloss:0.587521\n",
            "[625]\tvalidation_0-logloss:0.587437\n",
            "[626]\tvalidation_0-logloss:0.587325\n",
            "[627]\tvalidation_0-logloss:0.587268\n",
            "[628]\tvalidation_0-logloss:0.587192\n",
            "[629]\tvalidation_0-logloss:0.58715\n",
            "[630]\tvalidation_0-logloss:0.587054\n",
            "[631]\tvalidation_0-logloss:0.586965\n",
            "[632]\tvalidation_0-logloss:0.586908\n",
            "[633]\tvalidation_0-logloss:0.586838\n",
            "[634]\tvalidation_0-logloss:0.586772\n",
            "[635]\tvalidation_0-logloss:0.586703\n",
            "[636]\tvalidation_0-logloss:0.586623\n",
            "[637]\tvalidation_0-logloss:0.586568\n",
            "[638]\tvalidation_0-logloss:0.586517\n",
            "[639]\tvalidation_0-logloss:0.586459\n",
            "[640]\tvalidation_0-logloss:0.586332\n",
            "[641]\tvalidation_0-logloss:0.586254\n",
            "[642]\tvalidation_0-logloss:0.586181\n",
            "[643]\tvalidation_0-logloss:0.586135\n",
            "[644]\tvalidation_0-logloss:0.586039\n",
            "[645]\tvalidation_0-logloss:0.585948\n",
            "[646]\tvalidation_0-logloss:0.585892\n",
            "[647]\tvalidation_0-logloss:0.585812\n",
            "[648]\tvalidation_0-logloss:0.585773\n",
            "[649]\tvalidation_0-logloss:0.585691\n",
            "[650]\tvalidation_0-logloss:0.585606\n",
            "[651]\tvalidation_0-logloss:0.585562\n",
            "[652]\tvalidation_0-logloss:0.58551\n",
            "[653]\tvalidation_0-logloss:0.585447\n",
            "[654]\tvalidation_0-logloss:0.585363\n",
            "[655]\tvalidation_0-logloss:0.585294\n",
            "[656]\tvalidation_0-logloss:0.585205\n",
            "[657]\tvalidation_0-logloss:0.58513\n",
            "[658]\tvalidation_0-logloss:0.585014\n",
            "[659]\tvalidation_0-logloss:0.584941\n",
            "[660]\tvalidation_0-logloss:0.584888\n",
            "[661]\tvalidation_0-logloss:0.584858\n",
            "[662]\tvalidation_0-logloss:0.584743\n",
            "[663]\tvalidation_0-logloss:0.584646\n",
            "[664]\tvalidation_0-logloss:0.584609\n",
            "[665]\tvalidation_0-logloss:0.584532\n",
            "[666]\tvalidation_0-logloss:0.584479\n",
            "[667]\tvalidation_0-logloss:0.584381\n",
            "[668]\tvalidation_0-logloss:0.584319\n",
            "[669]\tvalidation_0-logloss:0.58427\n",
            "[670]\tvalidation_0-logloss:0.584233\n",
            "[671]\tvalidation_0-logloss:0.584144\n",
            "[672]\tvalidation_0-logloss:0.584049\n",
            "[673]\tvalidation_0-logloss:0.583986\n",
            "[674]\tvalidation_0-logloss:0.583927\n",
            "[675]\tvalidation_0-logloss:0.583892\n",
            "[676]\tvalidation_0-logloss:0.583821\n",
            "[677]\tvalidation_0-logloss:0.583749\n",
            "[678]\tvalidation_0-logloss:0.583642\n",
            "[679]\tvalidation_0-logloss:0.583584\n",
            "[680]\tvalidation_0-logloss:0.583558\n",
            "[681]\tvalidation_0-logloss:0.583454\n",
            "[682]\tvalidation_0-logloss:0.583343\n",
            "[683]\tvalidation_0-logloss:0.583298\n",
            "[684]\tvalidation_0-logloss:0.583228\n",
            "[685]\tvalidation_0-logloss:0.583176\n",
            "[686]\tvalidation_0-logloss:0.583103\n",
            "[687]\tvalidation_0-logloss:0.583041\n",
            "[688]\tvalidation_0-logloss:0.582965\n",
            "[689]\tvalidation_0-logloss:0.582896\n",
            "[690]\tvalidation_0-logloss:0.582853\n",
            "[691]\tvalidation_0-logloss:0.58279\n",
            "[692]\tvalidation_0-logloss:0.582753\n",
            "[693]\tvalidation_0-logloss:0.582701\n",
            "[694]\tvalidation_0-logloss:0.582645\n",
            "[695]\tvalidation_0-logloss:0.582583\n",
            "[696]\tvalidation_0-logloss:0.5825\n",
            "[697]\tvalidation_0-logloss:0.582423\n",
            "[698]\tvalidation_0-logloss:0.582329\n",
            "[699]\tvalidation_0-logloss:0.582228\n",
            "[700]\tvalidation_0-logloss:0.582142\n",
            "[701]\tvalidation_0-logloss:0.582082\n",
            "[702]\tvalidation_0-logloss:0.582038\n",
            "[703]\tvalidation_0-logloss:0.58197\n",
            "[704]\tvalidation_0-logloss:0.581919\n",
            "[705]\tvalidation_0-logloss:0.581792\n",
            "[706]\tvalidation_0-logloss:0.581714\n",
            "[707]\tvalidation_0-logloss:0.581668\n",
            "[708]\tvalidation_0-logloss:0.581607\n",
            "[709]\tvalidation_0-logloss:0.581507\n",
            "[710]\tvalidation_0-logloss:0.581436\n",
            "[711]\tvalidation_0-logloss:0.581387\n",
            "[712]\tvalidation_0-logloss:0.581329\n",
            "[713]\tvalidation_0-logloss:0.581291\n",
            "[714]\tvalidation_0-logloss:0.581217\n",
            "[715]\tvalidation_0-logloss:0.581139\n",
            "[716]\tvalidation_0-logloss:0.581078\n",
            "[717]\tvalidation_0-logloss:0.581006\n",
            "[718]\tvalidation_0-logloss:0.580911\n",
            "[719]\tvalidation_0-logloss:0.580826\n",
            "[720]\tvalidation_0-logloss:0.580766\n",
            "[721]\tvalidation_0-logloss:0.580727\n",
            "[722]\tvalidation_0-logloss:0.580673\n",
            "[723]\tvalidation_0-logloss:0.580595\n",
            "[724]\tvalidation_0-logloss:0.580527\n",
            "[725]\tvalidation_0-logloss:0.580468\n",
            "[726]\tvalidation_0-logloss:0.580409\n",
            "[727]\tvalidation_0-logloss:0.580364\n",
            "[728]\tvalidation_0-logloss:0.580302\n",
            "[729]\tvalidation_0-logloss:0.58022\n",
            "[730]\tvalidation_0-logloss:0.580151\n",
            "[731]\tvalidation_0-logloss:0.580072\n",
            "[732]\tvalidation_0-logloss:0.580029\n",
            "[733]\tvalidation_0-logloss:0.579981\n",
            "[734]\tvalidation_0-logloss:0.579933\n",
            "[735]\tvalidation_0-logloss:0.579868\n",
            "[736]\tvalidation_0-logloss:0.579779\n",
            "[737]\tvalidation_0-logloss:0.579737\n",
            "[738]\tvalidation_0-logloss:0.579686\n",
            "[739]\tvalidation_0-logloss:0.579604\n",
            "[740]\tvalidation_0-logloss:0.579544\n",
            "[741]\tvalidation_0-logloss:0.579472\n",
            "[742]\tvalidation_0-logloss:0.579415\n",
            "[743]\tvalidation_0-logloss:0.579337\n",
            "[744]\tvalidation_0-logloss:0.57928\n",
            "[745]\tvalidation_0-logloss:0.579215\n",
            "[746]\tvalidation_0-logloss:0.579178\n",
            "[747]\tvalidation_0-logloss:0.579144\n",
            "[748]\tvalidation_0-logloss:0.579058\n",
            "[749]\tvalidation_0-logloss:0.579007\n",
            "[750]\tvalidation_0-logloss:0.578968\n",
            "[751]\tvalidation_0-logloss:0.57889\n",
            "[752]\tvalidation_0-logloss:0.578798\n",
            "[753]\tvalidation_0-logloss:0.578732\n",
            "[754]\tvalidation_0-logloss:0.578678\n",
            "[755]\tvalidation_0-logloss:0.578584\n",
            "[756]\tvalidation_0-logloss:0.578532\n",
            "[757]\tvalidation_0-logloss:0.578476\n",
            "[758]\tvalidation_0-logloss:0.578418\n",
            "[759]\tvalidation_0-logloss:0.578381\n",
            "[760]\tvalidation_0-logloss:0.578311\n",
            "[761]\tvalidation_0-logloss:0.578281\n",
            "[762]\tvalidation_0-logloss:0.578194\n",
            "[763]\tvalidation_0-logloss:0.57815\n",
            "[764]\tvalidation_0-logloss:0.578097\n",
            "[765]\tvalidation_0-logloss:0.578057\n",
            "[766]\tvalidation_0-logloss:0.577981\n",
            "[767]\tvalidation_0-logloss:0.577912\n",
            "[768]\tvalidation_0-logloss:0.577847\n",
            "[769]\tvalidation_0-logloss:0.577779\n",
            "[770]\tvalidation_0-logloss:0.577719\n",
            "[771]\tvalidation_0-logloss:0.577673\n",
            "[772]\tvalidation_0-logloss:0.577637\n",
            "[773]\tvalidation_0-logloss:0.577581\n",
            "[774]\tvalidation_0-logloss:0.577532\n",
            "[775]\tvalidation_0-logloss:0.577479\n",
            "[776]\tvalidation_0-logloss:0.577445\n",
            "[777]\tvalidation_0-logloss:0.577392\n",
            "[778]\tvalidation_0-logloss:0.577342\n",
            "[779]\tvalidation_0-logloss:0.577305\n",
            "[780]\tvalidation_0-logloss:0.577255\n",
            "[781]\tvalidation_0-logloss:0.577219\n",
            "[782]\tvalidation_0-logloss:0.577144\n",
            "[783]\tvalidation_0-logloss:0.577096\n",
            "[784]\tvalidation_0-logloss:0.577036\n",
            "[785]\tvalidation_0-logloss:0.57694\n",
            "[786]\tvalidation_0-logloss:0.576882\n",
            "[787]\tvalidation_0-logloss:0.576797\n",
            "[788]\tvalidation_0-logloss:0.576745\n",
            "[789]\tvalidation_0-logloss:0.576688\n",
            "[790]\tvalidation_0-logloss:0.576628\n",
            "[791]\tvalidation_0-logloss:0.576578\n",
            "[792]\tvalidation_0-logloss:0.576533\n",
            "[793]\tvalidation_0-logloss:0.576447\n",
            "[794]\tvalidation_0-logloss:0.576371\n",
            "[795]\tvalidation_0-logloss:0.576293\n",
            "[796]\tvalidation_0-logloss:0.57621\n",
            "[797]\tvalidation_0-logloss:0.576155\n",
            "[798]\tvalidation_0-logloss:0.576126\n",
            "[799]\tvalidation_0-logloss:0.576063\n"
          ],
          "name": "stdout"
        },
        {
          "output_type": "execute_result",
          "data": {
            "text/plain": [
              "XGBClassifier(base_score=0.5, booster='gbtree', colsample_bylevel=1,\n",
              "              colsample_bynode=1, colsample_bytree=1, gamma=0,\n",
              "              learning_rate=0.01, max_delta_step=0, max_depth=4,\n",
              "              min_child_weight=1, missing=None, n_estimators=800, n_jobs=1,\n",
              "              nthread=None, objective='binary:logistic', random_state=0,\n",
              "              reg_alpha=0, reg_lambda=1, scale_pos_weight=1, seed=None,\n",
              "              silent=None, subsample=1, verbosity=1)"
            ]
          },
          "metadata": {
            "tags": []
          },
          "execution_count": 71
        }
      ]
    },
    {
      "cell_type": "code",
      "metadata": {
        "id": "OxGiVAR3SamZ",
        "colab_type": "code",
        "colab": {}
      },
      "source": [
        "xgb_df = pd.DataFrame(xgb_model.predict_proba(test_df), columns=['xgb_0', 'xgb_1'])"
      ],
      "execution_count": 72,
      "outputs": []
    },
    {
      "cell_type": "code",
      "metadata": {
        "id": "tsxhhMR6Sx1w",
        "colab_type": "code",
        "colab": {}
      },
      "source": [
        "result_preds = pd.concat([xgb_df, preds1], axis=1)"
      ],
      "execution_count": 73,
      "outputs": []
    },
    {
      "cell_type": "code",
      "metadata": {
        "id": "KAEXZWUOTFNc",
        "colab_type": "code",
        "colab": {}
      },
      "source": [
        "lr_precision2, lr_recall2, _2 = precision_recall_curve(y_true=y_test, probas_pred = xgb_df.xgb_1)"
      ],
      "execution_count": 74,
      "outputs": []
    },
    {
      "cell_type": "code",
      "metadata": {
        "id": "HjwiO8WXT1tl",
        "colab_type": "code",
        "colab": {
          "base_uri": "https://localhost:8080/",
          "height": 312
        },
        "outputId": "54f7bfab-0236-4910-8f31-e4a9df40e1fb"
      },
      "source": [
        "# Precision recall curve\n",
        "\n",
        "plt.plot(lr_recall1, lr_precision1, label='logistic')\n",
        "plt.plot(lr_recall2, lr_precision2, label='xgbclassifier')\n",
        "plt.grid()\n",
        "plt.legend()\n",
        "plt.xlabel('Recall')\n",
        "plt.ylabel('Precision')\n",
        "plt.title('Precision-Recall Curve')"
      ],
      "execution_count": 75,
      "outputs": [
        {
          "output_type": "execute_result",
          "data": {
            "text/plain": [
              "Text(0.5, 1.0, 'Precision-Recall Curve')"
            ]
          },
          "metadata": {
            "tags": []
          },
          "execution_count": 75
        },
        {
          "output_type": "display_data",
          "data": {
            "image/png": "[encoded data removed]",
            "text/plain": [
              "<Figure size 432x288 with 1 Axes>"
            ]
          },
          "metadata": {
            "tags": [],
            "needs_background": "light"
          }
        }
      ]
    },
    {
      "cell_type": "code",
      "metadata": {
        "id": "7tLZ9sKgULgs",
        "colab_type": "code",
        "colab": {}
      },
      "source": [
        ""
      ],
      "execution_count": null,
      "outputs": []
    }
  ]
}