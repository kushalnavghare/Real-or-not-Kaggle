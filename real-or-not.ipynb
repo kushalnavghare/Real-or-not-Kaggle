{
 "cells": [
  {
   "cell_type": "code",
   "execution_count": 1,
   "metadata": {
    "_cell_guid": "b1076dfc-b9ad-4769-8c92-a6c4dae69d19",
    "_uuid": "8f2839f25d086af736a60e9eeb907d3b93b6e0e5",
    "execution": {
     "iopub.execute_input": "2020-09-01T15:18:01.409544Z",
     "iopub.status.busy": "2020-09-01T15:18:01.408768Z",
     "iopub.status.idle": "2020-09-01T15:18:01.416479Z",
     "shell.execute_reply": "2020-09-01T15:18:01.415805Z"
    },
    "papermill": {
     "duration": 0.040387,
     "end_time": "2020-09-01T15:18:01.416611",
     "exception": false,
     "start_time": "2020-09-01T15:18:01.376224",
     "status": "completed"
    },
    "tags": []
   },
   "outputs": [
    {
     "name": "stdout",
     "output_type": "stream",
     "text": [
      "/kaggle/input/nlp-getting-started/train.csv\n",
      "/kaggle/input/nlp-getting-started/test.csv\n",
      "/kaggle/input/nlp-getting-started/sample_submission.csv\n"
     ]
    }
   ],
   "source": [
    "# This Python 3 environment comes with many helpful analytics libraries installed\n",
    "# It is defined by the kaggle/python Docker image: https://github.com/kaggle/docker-python\n",
    "# For example, here's several helpful packages to load\n",
    "\n",
    "import numpy as np # linear algebra\n",
    "import pandas as pd # data processing, CSV file I/O (e.g. pd.read_csv)\n",
    "\n",
    "# Input data files are available in the read-only \"../input/\" directory\n",
    "# For example, running this (by clicking run or pressing Shift+Enter) will list all files under the input directory\n",
    "\n",
    "import os\n",
    "for dirname, _, filenames in os.walk('/kaggle/input'):\n",
    "    for filename in filenames:\n",
    "        print(os.path.join(dirname, filename))\n",
    "\n",
    "# You can write up to 5GB to the current directory (/kaggle/working/) that gets preserved as output when you create a version using \"Save & Run All\" \n",
    "# You can also write temporary files to /kaggle/temp/, but they won't be saved outside of the current session"
   ]
  },
  {
   "cell_type": "code",
   "execution_count": 2,
   "metadata": {
    "execution": {
     "iopub.execute_input": "2020-09-01T15:18:01.460172Z",
     "iopub.status.busy": "2020-09-01T15:18:01.459121Z",
     "iopub.status.idle": "2020-09-01T15:18:01.462889Z",
     "shell.execute_reply": "2020-09-01T15:18:01.463482Z"
    },
    "papermill": {
     "duration": 0.029589,
     "end_time": "2020-09-01T15:18:01.463631",
     "exception": false,
     "start_time": "2020-09-01T15:18:01.434042",
     "status": "completed"
    },
    "tags": []
   },
   "outputs": [
    {
     "data": {
      "text/plain": [
       "'/kaggle/working'"
      ]
     },
     "execution_count": 2,
     "metadata": {},
     "output_type": "execute_result"
    }
   ],
   "source": [
    "pwd"
   ]
  },
  {
   "cell_type": "code",
   "execution_count": 3,
   "metadata": {
    "execution": {
     "iopub.execute_input": "2020-09-01T15:18:01.509168Z",
     "iopub.status.busy": "2020-09-01T15:18:01.508186Z",
     "iopub.status.idle": "2020-09-01T15:18:01.511621Z",
     "shell.execute_reply": "2020-09-01T15:18:01.510835Z"
    },
    "papermill": {
     "duration": 0.0307,
     "end_time": "2020-09-01T15:18:01.511777",
     "exception": false,
     "start_time": "2020-09-01T15:18:01.481077",
     "status": "completed"
    },
    "tags": []
   },
   "outputs": [],
   "source": [
    "import pandas as pd\n",
    "import matplotlib.pyplot as plt\n",
    "import numpy as np\n",
    "%matplotlib inline"
   ]
  },
  {
   "cell_type": "code",
   "execution_count": 4,
   "metadata": {
    "execution": {
     "iopub.execute_input": "2020-09-01T15:18:01.560413Z",
     "iopub.status.busy": "2020-09-01T15:18:01.559660Z",
     "iopub.status.idle": "2020-09-01T15:18:01.666770Z",
     "shell.execute_reply": "2020-09-01T15:18:01.665960Z"
    },
    "papermill": {
     "duration": 0.131959,
     "end_time": "2020-09-01T15:18:01.666902",
     "exception": false,
     "start_time": "2020-09-01T15:18:01.534943",
     "status": "completed"
    },
    "tags": []
   },
   "outputs": [],
   "source": [
    "train_data = pd.read_csv('../input/nlp-getting-started/train.csv')\n",
    "test_data = pd.read_csv('../input/nlp-getting-started/test.csv')\n",
    "\n",
    "subm_data = pd.read_csv('../input/nlp-getting-started/sample_submission.csv')"
   ]
  },
  {
   "cell_type": "code",
   "execution_count": 5,
   "metadata": {
    "execution": {
     "iopub.execute_input": "2020-09-01T15:18:01.716612Z",
     "iopub.status.busy": "2020-09-01T15:18:01.715810Z",
     "iopub.status.idle": "2020-09-01T15:18:01.726098Z",
     "shell.execute_reply": "2020-09-01T15:18:01.725387Z"
    },
    "papermill": {
     "duration": 0.04161,
     "end_time": "2020-09-01T15:18:01.726216",
     "exception": false,
     "start_time": "2020-09-01T15:18:01.684606",
     "status": "completed"
    },
    "tags": []
   },
   "outputs": [
    {
     "data": {
      "text/html": [
       "<div>\n",
       "<style scoped>\n",
       "    .dataframe tbody tr th:only-of-type {\n",
       "        vertical-align: middle;\n",
       "    }\n",
       "\n",
       "    .dataframe tbody tr th {\n",
       "        vertical-align: top;\n",
       "    }\n",
       "\n",
       "    .dataframe thead th {\n",
       "        text-align: right;\n",
       "    }\n",
       "</style>\n",
       "<table border=\"1\" class=\"dataframe\">\n",
       "  <thead>\n",
       "    <tr style=\"text-align: right;\">\n",
       "      <th></th>\n",
       "      <th>id</th>\n",
       "      <th>keyword</th>\n",
       "      <th>location</th>\n",
       "      <th>text</th>\n",
       "      <th>target</th>\n",
       "    </tr>\n",
       "  </thead>\n",
       "  <tbody>\n",
       "    <tr>\n",
       "      <th>0</th>\n",
       "      <td>1</td>\n",
       "      <td>NaN</td>\n",
       "      <td>NaN</td>\n",
       "      <td>Our Deeds are the Reason of this #earthquake M...</td>\n",
       "      <td>1</td>\n",
       "    </tr>\n",
       "    <tr>\n",
       "      <th>1</th>\n",
       "      <td>4</td>\n",
       "      <td>NaN</td>\n",
       "      <td>NaN</td>\n",
       "      <td>Forest fire near La Ronge Sask. Canada</td>\n",
       "      <td>1</td>\n",
       "    </tr>\n",
       "  </tbody>\n",
       "</table>\n",
       "</div>"
      ],
      "text/plain": [
       "   id keyword location                                               text  \\\n",
       "0   1     NaN      NaN  Our Deeds are the Reason of this #earthquake M...   \n",
       "1   4     NaN      NaN             Forest fire near La Ronge Sask. Canada   \n",
       "\n",
       "   target  \n",
       "0       1  \n",
       "1       1  "
      ]
     },
     "execution_count": 5,
     "metadata": {},
     "output_type": "execute_result"
    }
   ],
   "source": [
    "train_data.head(2)"
   ]
  },
  {
   "cell_type": "code",
   "execution_count": 6,
   "metadata": {
    "execution": {
     "iopub.execute_input": "2020-09-01T15:18:01.768692Z",
     "iopub.status.busy": "2020-09-01T15:18:01.767955Z",
     "iopub.status.idle": "2020-09-01T15:18:02.992241Z",
     "shell.execute_reply": "2020-09-01T15:18:02.991204Z"
    },
    "papermill": {
     "duration": 1.247735,
     "end_time": "2020-09-01T15:18:02.992404",
     "exception": false,
     "start_time": "2020-09-01T15:18:01.744669",
     "status": "completed"
    },
    "tags": []
   },
   "outputs": [],
   "source": [
    "import seaborn as sns"
   ]
  },
  {
   "cell_type": "code",
   "execution_count": 7,
   "metadata": {
    "execution": {
     "iopub.execute_input": "2020-09-01T15:18:03.046351Z",
     "iopub.status.busy": "2020-09-01T15:18:03.038631Z",
     "iopub.status.idle": "2020-09-01T15:18:03.258367Z",
     "shell.execute_reply": "2020-09-01T15:18:03.257686Z"
    },
    "papermill": {
     "duration": 0.24746,
     "end_time": "2020-09-01T15:18:03.258496",
     "exception": false,
     "start_time": "2020-09-01T15:18:03.011036",
     "status": "completed"
    },
    "tags": []
   },
   "outputs": [
    {
     "data": {
      "text/plain": [
       "<matplotlib.axes._subplots.AxesSubplot at 0x7f3086756150>"
      ]
     },
     "execution_count": 7,
     "metadata": {},
     "output_type": "execute_result"
    },
    {
     "data": {
      "image/png": "[encoded data removed]",
      "text/plain": [
       "<Figure size 432x288 with 1 Axes>"
      ]
     },
     "metadata": {
      "needs_background": "light"
     },
     "output_type": "display_data"
    }
   ],
   "source": [
    "sns.countplot(y = train_data.target)"
   ]
  },
  {
   "cell_type": "code",
   "execution_count": 8,
   "metadata": {
    "execution": {
     "iopub.execute_input": "2020-09-01T15:18:03.323837Z",
     "iopub.status.busy": "2020-09-01T15:18:03.320234Z",
     "iopub.status.idle": "2020-09-01T15:18:03.567016Z",
     "shell.execute_reply": "2020-09-01T15:18:03.567636Z"
    },
    "papermill": {
     "duration": 0.289398,
     "end_time": "2020-09-01T15:18:03.567794",
     "exception": false,
     "start_time": "2020-09-01T15:18:03.278396",
     "status": "completed"
    },
    "tags": []
   },
   "outputs": [
    {
     "data": {
      "text/plain": [
       "<matplotlib.axes._subplots.AxesSubplot at 0x7f3086588490>"
      ]
     },
     "execution_count": 8,
     "metadata": {},
     "output_type": "execute_result"
    },
    {
     "data": {
      "image/png": "[encoded data removed]",
      "text/plain": [
       "<Figure size 432x288 with 1 Axes>"
      ]
     },
     "metadata": {
      "needs_background": "light"
     },
     "output_type": "display_data"
    }
   ],
   "source": [
    "sns.distplot(train_data.text.str.len(), label='Average Text Length')"
   ]
  },
  {
   "cell_type": "code",
   "execution_count": 9,
   "metadata": {
    "execution": {
     "iopub.execute_input": "2020-09-01T15:18:03.664651Z",
     "iopub.status.busy": "2020-09-01T15:18:03.622610Z",
     "iopub.status.idle": "2020-09-01T15:18:03.740398Z",
     "shell.execute_reply": "2020-09-01T15:18:03.739776Z"
    },
    "papermill": {
     "duration": 0.150547,
     "end_time": "2020-09-01T15:18:03.740532",
     "exception": false,
     "start_time": "2020-09-01T15:18:03.589985",
     "status": "completed"
    },
    "tags": []
   },
   "outputs": [],
   "source": [
    "most_freq_words = pd.Series(\" \".join(train_data['text']).split()).value_counts()"
   ]
  },
  {
   "cell_type": "code",
   "execution_count": 10,
   "metadata": {
    "execution": {
     "iopub.execute_input": "2020-09-01T15:18:03.790519Z",
     "iopub.status.busy": "2020-09-01T15:18:03.789532Z",
     "iopub.status.idle": "2020-09-01T15:18:04.038127Z",
     "shell.execute_reply": "2020-09-01T15:18:04.037371Z"
    },
    "papermill": {
     "duration": 0.27629,
     "end_time": "2020-09-01T15:18:04.038246",
     "exception": false,
     "start_time": "2020-09-01T15:18:03.761956",
     "status": "completed"
    },
    "tags": []
   },
   "outputs": [
    {
     "data": {
      "text/plain": [
       "<matplotlib.axes._subplots.AxesSubplot at 0x7f3085d892d0>"
      ]
     },
     "execution_count": 10,
     "metadata": {},
     "output_type": "execute_result"
    },
    {
     "data": {
      "image/png": "[encoded data removed]",
      "text/plain": [
       "<Figure size 432x288 with 1 Axes>"
      ]
     },
     "metadata": {
      "needs_background": "light"
     },
     "output_type": "display_data"
    }
   ],
   "source": [
    "most_freq_words.head(20).sort_values(ascending = True).plot(kind=\"barh\",title = \"Top 20 Frequent Number Of Words\")"
   ]
  },
  {
   "cell_type": "markdown",
   "execution_count": null,
   "metadata": {
    "papermill": {
     "duration": 0.022644,
     "end_time": "2020-09-01T15:18:04.085087",
     "exception": false,
     "start_time": "2020-09-01T15:18:04.062443",
     "status": "completed"
    },
    "tags": []
   },
   "source": [
    "Lets look into Bi-Grams and what are those."
   ]
  },
  {
   "cell_type": "code",
   "execution_count": 11,
   "metadata": {
    "execution": {
     "iopub.execute_input": "2020-09-01T15:18:04.136774Z",
     "iopub.status.busy": "2020-09-01T15:18:04.135982Z",
     "iopub.status.idle": "2020-09-01T15:18:04.235564Z",
     "shell.execute_reply": "2020-09-01T15:18:04.234911Z"
    },
    "papermill": {
     "duration": 0.127843,
     "end_time": "2020-09-01T15:18:04.235706",
     "exception": false,
     "start_time": "2020-09-01T15:18:04.107863",
     "status": "completed"
    },
    "tags": []
   },
   "outputs": [],
   "source": [
    "from sklearn.feature_extraction.text import CountVectorizer"
   ]
  },
  {
   "cell_type": "code",
   "execution_count": 12,
   "metadata": {
    "execution": {
     "iopub.execute_input": "2020-09-01T15:18:04.288481Z",
     "iopub.status.busy": "2020-09-01T15:18:04.287456Z",
     "iopub.status.idle": "2020-09-01T15:18:04.289918Z",
     "shell.execute_reply": "2020-09-01T15:18:04.290733Z"
    },
    "papermill": {
     "duration": 0.031334,
     "end_time": "2020-09-01T15:18:04.290928",
     "exception": false,
     "start_time": "2020-09-01T15:18:04.259594",
     "status": "completed"
    },
    "tags": []
   },
   "outputs": [],
   "source": [
    "word_vectorizer = CountVectorizer(ngram_range=(2,2), analyzer='word')"
   ]
  },
  {
   "cell_type": "code",
   "execution_count": 13,
   "metadata": {
    "execution": {
     "iopub.execute_input": "2020-09-01T15:18:04.391428Z",
     "iopub.status.busy": "2020-09-01T15:18:04.389537Z",
     "iopub.status.idle": "2020-09-01T15:18:13.331980Z",
     "shell.execute_reply": "2020-09-01T15:18:13.331347Z"
    },
    "papermill": {
     "duration": 8.996271,
     "end_time": "2020-09-01T15:18:13.332123",
     "exception": false,
     "start_time": "2020-09-01T15:18:04.335852",
     "status": "completed"
    },
    "tags": []
   },
   "outputs": [],
   "source": [
    "sparse_matrix = word_vectorizer.fit_transform(train_data[\"text\"])\n",
    "frequencies = sum(sparse_matrix).toarray()[0]\n",
    "bi_grams_df = pd.DataFrame(frequencies, index=word_vectorizer.get_feature_names(), columns=['frequency'])\n",
    "\n"
   ]
  },
  {
   "cell_type": "code",
   "execution_count": 14,
   "metadata": {
    "execution": {
     "iopub.execute_input": "2020-09-01T15:18:13.391549Z",
     "iopub.status.busy": "2020-09-01T15:18:13.390794Z",
     "iopub.status.idle": "2020-09-01T15:18:13.623185Z",
     "shell.execute_reply": "2020-09-01T15:18:13.622467Z"
    },
    "papermill": {
     "duration": 0.267775,
     "end_time": "2020-09-01T15:18:13.623323",
     "exception": false,
     "start_time": "2020-09-01T15:18:13.355548",
     "status": "completed"
    },
    "tags": []
   },
   "outputs": [
    {
     "data": {
      "text/plain": [
       "<matplotlib.axes._subplots.AxesSubplot at 0x7f3085de9890>"
      ]
     },
     "execution_count": 14,
     "metadata": {},
     "output_type": "execute_result"
    },
    {
     "data": {
      "image/png": "[encoded data removed]",
      "text/plain": [
       "<Figure size 432x288 with 1 Axes>"
      ]
     },
     "metadata": {
      "needs_background": "light"
     },
     "output_type": "display_data"
    }
   ],
   "source": [
    "plt.xlabel(\"Frequency\",)\n",
    "plt.ylabel(\"Terms\")\n",
    "top20_bigrams = bi_grams_df[\"frequency\"].sort_values(ascending = False).head(20)\n",
    "\n",
    "top20_bigrams.head(20).sort_values(ascending = True).plot(kind=\"barh\",title = \"Top 20 Frequent Bi Grams\")"
   ]
  },
  {
   "cell_type": "markdown",
   "execution_count": null,
   "metadata": {
    "papermill": {
     "duration": 0.023106,
     "end_time": "2020-09-01T15:18:13.670058",
     "exception": false,
     "start_time": "2020-09-01T15:18:13.646952",
     "status": "completed"
    },
    "tags": []
   },
   "source": [
    "Looks like a lot of stopwords, punctuation and http links are present in the data. MUST REMOVE IT!!"
   ]
  },
  {
   "cell_type": "code",
   "execution_count": null,
   "metadata": {
    "papermill": {
     "duration": 0.023135,
     "end_time": "2020-09-01T15:18:13.716786",
     "exception": false,
     "start_time": "2020-09-01T15:18:13.693651",
     "status": "completed"
    },
    "tags": []
   },
   "outputs": [],
   "source": []
  },
  {
   "cell_type": "markdown",
   "execution_count": null,
   "metadata": {
    "papermill": {
     "duration": 0.023299,
     "end_time": "2020-09-01T15:18:13.763497",
     "exception": false,
     "start_time": "2020-09-01T15:18:13.740198",
     "status": "completed"
    },
    "tags": []
   },
   "source": [
    "**Text Cleaning**"
   ]
  },
  {
   "cell_type": "code",
   "execution_count": 15,
   "metadata": {
    "execution": {
     "iopub.execute_input": "2020-09-01T15:18:13.817086Z",
     "iopub.status.busy": "2020-09-01T15:18:13.816337Z",
     "iopub.status.idle": "2020-09-01T15:18:14.428255Z",
     "shell.execute_reply": "2020-09-01T15:18:14.427575Z"
    },
    "papermill": {
     "duration": 0.641654,
     "end_time": "2020-09-01T15:18:14.428413",
     "exception": false,
     "start_time": "2020-09-01T15:18:13.786759",
     "status": "completed"
    },
    "tags": []
   },
   "outputs": [],
   "source": [
    "from sklearn.feature_extraction.text import CountVectorizer, TfidfVectorizer\n",
    "import re\n",
    "from nltk.corpus import stopwords\n",
    "from sklearn.model_selection import train_test_split\n",
    "\n",
    "from sklearn.linear_model import LogisticRegression\n",
    "from sklearn.svm import LinearSVC, SVC"
   ]
  },
  {
   "cell_type": "code",
   "execution_count": 16,
   "metadata": {
    "execution": {
     "iopub.execute_input": "2020-09-01T15:18:14.494021Z",
     "iopub.status.busy": "2020-09-01T15:18:14.487543Z",
     "iopub.status.idle": "2020-09-01T15:18:14.498967Z",
     "shell.execute_reply": "2020-09-01T15:18:14.498157Z"
    },
    "papermill": {
     "duration": 0.047171,
     "end_time": "2020-09-01T15:18:14.499099",
     "exception": false,
     "start_time": "2020-09-01T15:18:14.451928",
     "status": "completed"
    },
    "tags": []
   },
   "outputs": [],
   "source": [
    "# To lower case text\n",
    "train_data['text'] = train_data.text.str.lower()"
   ]
  },
  {
   "cell_type": "code",
   "execution_count": 17,
   "metadata": {
    "execution": {
     "iopub.execute_input": "2020-09-01T15:18:14.552381Z",
     "iopub.status.busy": "2020-09-01T15:18:14.551660Z",
     "iopub.status.idle": "2020-09-01T15:18:14.559978Z",
     "shell.execute_reply": "2020-09-01T15:18:14.559219Z"
    },
    "papermill": {
     "duration": 0.037171,
     "end_time": "2020-09-01T15:18:14.560097",
     "exception": false,
     "start_time": "2020-09-01T15:18:14.522926",
     "status": "completed"
    },
    "tags": []
   },
   "outputs": [],
   "source": [
    "# remove stopwords\n",
    "\n",
    "stop_words = stopwords.words('english')"
   ]
  },
  {
   "cell_type": "code",
   "execution_count": 18,
   "metadata": {
    "execution": {
     "iopub.execute_input": "2020-09-01T15:18:14.613416Z",
     "iopub.status.busy": "2020-09-01T15:18:14.612634Z",
     "iopub.status.idle": "2020-09-01T15:18:14.617067Z",
     "shell.execute_reply": "2020-09-01T15:18:14.616334Z"
    },
    "papermill": {
     "duration": 0.033275,
     "end_time": "2020-09-01T15:18:14.617184",
     "exception": false,
     "start_time": "2020-09-01T15:18:14.583909",
     "status": "completed"
    },
    "tags": []
   },
   "outputs": [
    {
     "data": {
      "text/plain": [
       "['i', 'me', 'my', 'myself', 'we']"
      ]
     },
     "execution_count": 18,
     "metadata": {},
     "output_type": "execute_result"
    }
   ],
   "source": [
    "stop_words[:5]"
   ]
  },
  {
   "cell_type": "code",
   "execution_count": 19,
   "metadata": {
    "execution": {
     "iopub.execute_input": "2020-09-01T15:18:14.694286Z",
     "iopub.status.busy": "2020-09-01T15:18:14.690912Z",
     "iopub.status.idle": "2020-09-01T15:18:14.697856Z",
     "shell.execute_reply": "2020-09-01T15:18:14.697174Z"
    },
    "papermill": {
     "duration": 0.056942,
     "end_time": "2020-09-01T15:18:14.697974",
     "exception": false,
     "start_time": "2020-09-01T15:18:14.641032",
     "status": "completed"
    },
    "tags": []
   },
   "outputs": [],
   "source": [
    "tokenized_doc = train_data['text'].apply(lambda x: x.split())"
   ]
  },
  {
   "cell_type": "code",
   "execution_count": 20,
   "metadata": {
    "execution": {
     "iopub.execute_input": "2020-09-01T15:18:14.752105Z",
     "iopub.status.busy": "2020-09-01T15:18:14.751370Z",
     "iopub.status.idle": "2020-09-01T15:18:15.048525Z",
     "shell.execute_reply": "2020-09-01T15:18:15.047679Z"
    },
    "papermill": {
     "duration": 0.326532,
     "end_time": "2020-09-01T15:18:15.048658",
     "exception": false,
     "start_time": "2020-09-01T15:18:14.722126",
     "status": "completed"
    },
    "tags": []
   },
   "outputs": [],
   "source": [
    "# remove stop-words\n",
    "tokenized_doc = tokenized_doc.apply(lambda x: [item for item in x if item not in stop_words])"
   ]
  },
  {
   "cell_type": "code",
   "execution_count": 21,
   "metadata": {
    "execution": {
     "iopub.execute_input": "2020-09-01T15:18:15.158212Z",
     "iopub.status.busy": "2020-09-01T15:18:15.153202Z",
     "iopub.status.idle": "2020-09-01T15:18:15.213834Z",
     "shell.execute_reply": "2020-09-01T15:18:15.213037Z"
    },
    "papermill": {
     "duration": 0.140907,
     "end_time": "2020-09-01T15:18:15.213957",
     "exception": false,
     "start_time": "2020-09-01T15:18:15.073050",
     "status": "completed"
    },
    "tags": []
   },
   "outputs": [],
   "source": [
    "train_data['clean_text'] = tokenized_doc.astype(str).str.replace('\\[|\\]|\\'', '')\n",
    "train_data['clean_text'] = train_data.clean_text.str.replace(\",\",'')"
   ]
  },
  {
   "cell_type": "code",
   "execution_count": 22,
   "metadata": {
    "execution": {
     "iopub.execute_input": "2020-09-01T15:18:15.287346Z",
     "iopub.status.busy": "2020-09-01T15:18:15.277120Z",
     "iopub.status.idle": "2020-09-01T15:18:15.332570Z",
     "shell.execute_reply": "2020-09-01T15:18:15.331836Z"
    },
    "papermill": {
     "duration": 0.093791,
     "end_time": "2020-09-01T15:18:15.332704",
     "exception": false,
     "start_time": "2020-09-01T15:18:15.238913",
     "status": "completed"
    },
    "tags": []
   },
   "outputs": [],
   "source": [
    "train_data['clean_text'] = train_data.clean_text.str.replace(r'[^\\w\\s]', '')"
   ]
  },
  {
   "cell_type": "code",
   "execution_count": 23,
   "metadata": {
    "execution": {
     "iopub.execute_input": "2020-09-01T15:18:15.395842Z",
     "iopub.status.busy": "2020-09-01T15:18:15.394764Z",
     "iopub.status.idle": "2020-09-01T15:18:15.399123Z",
     "shell.execute_reply": "2020-09-01T15:18:15.399748Z"
    },
    "papermill": {
     "duration": 0.041734,
     "end_time": "2020-09-01T15:18:15.399927",
     "exception": false,
     "start_time": "2020-09-01T15:18:15.358193",
     "status": "completed"
    },
    "tags": []
   },
   "outputs": [
    {
     "data": {
      "text/html": [
       "<div>\n",
       "<style scoped>\n",
       "    .dataframe tbody tr th:only-of-type {\n",
       "        vertical-align: middle;\n",
       "    }\n",
       "\n",
       "    .dataframe tbody tr th {\n",
       "        vertical-align: top;\n",
       "    }\n",
       "\n",
       "    .dataframe thead th {\n",
       "        text-align: right;\n",
       "    }\n",
       "</style>\n",
       "<table border=\"1\" class=\"dataframe\">\n",
       "  <thead>\n",
       "    <tr style=\"text-align: right;\">\n",
       "      <th></th>\n",
       "      <th>id</th>\n",
       "      <th>keyword</th>\n",
       "      <th>location</th>\n",
       "      <th>text</th>\n",
       "      <th>target</th>\n",
       "      <th>clean_text</th>\n",
       "    </tr>\n",
       "  </thead>\n",
       "  <tbody>\n",
       "    <tr>\n",
       "      <th>0</th>\n",
       "      <td>1</td>\n",
       "      <td>NaN</td>\n",
       "      <td>NaN</td>\n",
       "      <td>our deeds are the reason of this #earthquake m...</td>\n",
       "      <td>1</td>\n",
       "      <td>deeds reason earthquake may allah forgive us</td>\n",
       "    </tr>\n",
       "    <tr>\n",
       "      <th>1</th>\n",
       "      <td>4</td>\n",
       "      <td>NaN</td>\n",
       "      <td>NaN</td>\n",
       "      <td>forest fire near la ronge sask. canada</td>\n",
       "      <td>1</td>\n",
       "      <td>forest fire near la ronge sask canada</td>\n",
       "    </tr>\n",
       "  </tbody>\n",
       "</table>\n",
       "</div>"
      ],
      "text/plain": [
       "   id keyword location                                               text  \\\n",
       "0   1     NaN      NaN  our deeds are the reason of this #earthquake m...   \n",
       "1   4     NaN      NaN             forest fire near la ronge sask. canada   \n",
       "\n",
       "   target                                    clean_text  \n",
       "0       1  deeds reason earthquake may allah forgive us  \n",
       "1       1         forest fire near la ronge sask canada  "
      ]
     },
     "execution_count": 23,
     "metadata": {},
     "output_type": "execute_result"
    }
   ],
   "source": [
    "train_data.head(2)"
   ]
  },
  {
   "cell_type": "code",
   "execution_count": 24,
   "metadata": {
    "execution": {
     "iopub.execute_input": "2020-09-01T15:18:15.457285Z",
     "iopub.status.busy": "2020-09-01T15:18:15.456215Z",
     "iopub.status.idle": "2020-09-01T15:18:15.459769Z",
     "shell.execute_reply": "2020-09-01T15:18:15.459148Z"
    },
    "papermill": {
     "duration": 0.035354,
     "end_time": "2020-09-01T15:18:15.459900",
     "exception": false,
     "start_time": "2020-09-01T15:18:15.424546",
     "status": "completed"
    },
    "tags": []
   },
   "outputs": [],
   "source": [
    "def top_n_words(text, n):\n",
    "    \n",
    "    most_freq_words = pd.Series(\" \".join(text).split()).value_counts()\n",
    "    return most_freq_words.head(n).sort_values(ascending = True).plot(kind=\"barh\",title = \"Top {n} Frequent Number Of Words\".format(n = n))"
   ]
  },
  {
   "cell_type": "code",
   "execution_count": 25,
   "metadata": {
    "execution": {
     "iopub.execute_input": "2020-09-01T15:18:15.533751Z",
     "iopub.status.busy": "2020-09-01T15:18:15.526185Z",
     "iopub.status.idle": "2020-09-01T15:18:15.791879Z",
     "shell.execute_reply": "2020-09-01T15:18:15.792458Z"
    },
    "papermill": {
     "duration": 0.307912,
     "end_time": "2020-09-01T15:18:15.792629",
     "exception": false,
     "start_time": "2020-09-01T15:18:15.484717",
     "status": "completed"
    },
    "tags": []
   },
   "outputs": [
    {
     "data": {
      "text/plain": [
       "<matplotlib.axes._subplots.AxesSubplot at 0x7f30803e91d0>"
      ]
     },
     "execution_count": 25,
     "metadata": {},
     "output_type": "execute_result"
    },
    {
     "data": {
      "image/png": "[encoded data removed]",
      "text/plain": [
       "<Figure size 432x288 with 1 Axes>"
      ]
     },
     "metadata": {
      "needs_background": "light"
     },
     "output_type": "display_data"
    }
   ],
   "source": [
    "top_n_words(train_data.clean_text, 15)"
   ]
  },
  {
   "cell_type": "code",
   "execution_count": 26,
   "metadata": {
    "execution": {
     "iopub.execute_input": "2020-09-01T15:18:15.866684Z",
     "iopub.status.busy": "2020-09-01T15:18:15.856207Z",
     "iopub.status.idle": "2020-09-01T15:18:15.904745Z",
     "shell.execute_reply": "2020-09-01T15:18:15.903997Z"
    },
    "papermill": {
     "duration": 0.085468,
     "end_time": "2020-09-01T15:18:15.904867",
     "exception": false,
     "start_time": "2020-09-01T15:18:15.819399",
     "status": "completed"
    },
    "tags": []
   },
   "outputs": [
    {
     "data": {
      "text/plain": [
       "0            deeds reason earthquake may allah forgive us\n",
       "1                   forest fire near la ronge sask canada\n",
       "2       residents asked shelter place notified officer...\n",
       "3        people receive wildfires evacuation orders ca...\n",
       "4       got sent photo ruby alaska smoke wildfires pou...\n",
       "                              ...                        \n",
       "7608    two giant cranes holding bridge collapse nearb...\n",
       "7609    aria_ahrary thetawniest control wild fires cal...\n",
       "7610             m  utckm volcano hawaii httptcozdtoydebj\n",
       "7611    police investigating ebike collided car little...\n",
       "7612    latest homes razed northern california wildfir...\n",
       "Name: clean_text, Length: 7613, dtype: object"
      ]
     },
     "execution_count": 26,
     "metadata": {},
     "output_type": "execute_result"
    }
   ],
   "source": [
    "# Remove numbers from the text\n",
    "train_data.clean_text.str.replace('\\d+', '')"
   ]
  },
  {
   "cell_type": "code",
   "execution_count": 27,
   "metadata": {
    "execution": {
     "iopub.execute_input": "2020-09-01T15:18:16.023533Z",
     "iopub.status.busy": "2020-09-01T15:18:15.994167Z",
     "iopub.status.idle": "2020-09-01T15:18:16.026347Z",
     "shell.execute_reply": "2020-09-01T15:18:16.026889Z"
    },
    "papermill": {
     "duration": 0.0972,
     "end_time": "2020-09-01T15:18:16.027055",
     "exception": false,
     "start_time": "2020-09-01T15:18:15.929855",
     "status": "completed"
    },
    "tags": []
   },
   "outputs": [],
   "source": [
    "# Remove URLs\n",
    "train_data['clean_text'] = train_data.clean_text.apply(lambda x: re.sub(r\"http\\S+\", \"\", str(x)))\n",
    "\n",
    "# Remove numbers\n",
    "train_data['clean_text'] = train_data.clean_text.str.replace('\\d+', '')\n",
    "# re.sub(r'https?:\\/\\/.*[\\r\\n]*', '', str(train_data.clean_text))"
   ]
  },
  {
   "cell_type": "code",
   "execution_count": 28,
   "metadata": {
    "execution": {
     "iopub.execute_input": "2020-09-01T15:18:16.100612Z",
     "iopub.status.busy": "2020-09-01T15:18:16.099553Z",
     "iopub.status.idle": "2020-09-01T15:18:16.104071Z",
     "shell.execute_reply": "2020-09-01T15:18:16.103344Z"
    },
    "papermill": {
     "duration": 0.051781,
     "end_time": "2020-09-01T15:18:16.104192",
     "exception": false,
     "start_time": "2020-09-01T15:18:16.052411",
     "status": "completed"
    },
    "tags": []
   },
   "outputs": [
    {
     "data": {
      "text/html": [
       "<div>\n",
       "<style scoped>\n",
       "    .dataframe tbody tr th:only-of-type {\n",
       "        vertical-align: middle;\n",
       "    }\n",
       "\n",
       "    .dataframe tbody tr th {\n",
       "        vertical-align: top;\n",
       "    }\n",
       "\n",
       "    .dataframe thead th {\n",
       "        text-align: right;\n",
       "    }\n",
       "</style>\n",
       "<table border=\"1\" class=\"dataframe\">\n",
       "  <thead>\n",
       "    <tr style=\"text-align: right;\">\n",
       "      <th></th>\n",
       "      <th>id</th>\n",
       "      <th>keyword</th>\n",
       "      <th>location</th>\n",
       "      <th>text</th>\n",
       "      <th>target</th>\n",
       "      <th>clean_text</th>\n",
       "    </tr>\n",
       "  </thead>\n",
       "  <tbody>\n",
       "    <tr>\n",
       "      <th>0</th>\n",
       "      <td>1</td>\n",
       "      <td>NaN</td>\n",
       "      <td>NaN</td>\n",
       "      <td>our deeds are the reason of this #earthquake m...</td>\n",
       "      <td>1</td>\n",
       "      <td>deeds reason earthquake may allah forgive us</td>\n",
       "    </tr>\n",
       "    <tr>\n",
       "      <th>1</th>\n",
       "      <td>4</td>\n",
       "      <td>NaN</td>\n",
       "      <td>NaN</td>\n",
       "      <td>forest fire near la ronge sask. canada</td>\n",
       "      <td>1</td>\n",
       "      <td>forest fire near la ronge sask canada</td>\n",
       "    </tr>\n",
       "    <tr>\n",
       "      <th>2</th>\n",
       "      <td>5</td>\n",
       "      <td>NaN</td>\n",
       "      <td>NaN</td>\n",
       "      <td>all residents asked to 'shelter in place' are ...</td>\n",
       "      <td>1</td>\n",
       "      <td>residents asked shelter place notified officer...</td>\n",
       "    </tr>\n",
       "    <tr>\n",
       "      <th>3</th>\n",
       "      <td>6</td>\n",
       "      <td>NaN</td>\n",
       "      <td>NaN</td>\n",
       "      <td>13,000 people receive #wildfires evacuation or...</td>\n",
       "      <td>1</td>\n",
       "      <td>people receive wildfires evacuation orders ca...</td>\n",
       "    </tr>\n",
       "    <tr>\n",
       "      <th>4</th>\n",
       "      <td>7</td>\n",
       "      <td>NaN</td>\n",
       "      <td>NaN</td>\n",
       "      <td>just got sent this photo from ruby #alaska as ...</td>\n",
       "      <td>1</td>\n",
       "      <td>got sent photo ruby alaska smoke wildfires pou...</td>\n",
       "    </tr>\n",
       "    <tr>\n",
       "      <th>...</th>\n",
       "      <td>...</td>\n",
       "      <td>...</td>\n",
       "      <td>...</td>\n",
       "      <td>...</td>\n",
       "      <td>...</td>\n",
       "      <td>...</td>\n",
       "    </tr>\n",
       "    <tr>\n",
       "      <th>7608</th>\n",
       "      <td>10869</td>\n",
       "      <td>NaN</td>\n",
       "      <td>NaN</td>\n",
       "      <td>two giant cranes holding a bridge collapse int...</td>\n",
       "      <td>1</td>\n",
       "      <td>two giant cranes holding bridge collapse nearb...</td>\n",
       "    </tr>\n",
       "    <tr>\n",
       "      <th>7609</th>\n",
       "      <td>10870</td>\n",
       "      <td>NaN</td>\n",
       "      <td>NaN</td>\n",
       "      <td>@aria_ahrary @thetawniest the out of control w...</td>\n",
       "      <td>1</td>\n",
       "      <td>aria_ahrary thetawniest control wild fires cal...</td>\n",
       "    </tr>\n",
       "    <tr>\n",
       "      <th>7610</th>\n",
       "      <td>10871</td>\n",
       "      <td>NaN</td>\n",
       "      <td>NaN</td>\n",
       "      <td>m1.94 [01:04 utc]?5km s of volcano hawaii. htt...</td>\n",
       "      <td>1</td>\n",
       "      <td>m  utckm volcano hawaii</td>\n",
       "    </tr>\n",
       "    <tr>\n",
       "      <th>7611</th>\n",
       "      <td>10872</td>\n",
       "      <td>NaN</td>\n",
       "      <td>NaN</td>\n",
       "      <td>police investigating after an e-bike collided ...</td>\n",
       "      <td>1</td>\n",
       "      <td>police investigating ebike collided car little...</td>\n",
       "    </tr>\n",
       "    <tr>\n",
       "      <th>7612</th>\n",
       "      <td>10873</td>\n",
       "      <td>NaN</td>\n",
       "      <td>NaN</td>\n",
       "      <td>the latest: more homes razed by northern calif...</td>\n",
       "      <td>1</td>\n",
       "      <td>latest homes razed northern california wildfir...</td>\n",
       "    </tr>\n",
       "  </tbody>\n",
       "</table>\n",
       "<p>7613 rows × 6 columns</p>\n",
       "</div>"
      ],
      "text/plain": [
       "         id keyword location  \\\n",
       "0         1     NaN      NaN   \n",
       "1         4     NaN      NaN   \n",
       "2         5     NaN      NaN   \n",
       "3         6     NaN      NaN   \n",
       "4         7     NaN      NaN   \n",
       "...     ...     ...      ...   \n",
       "7608  10869     NaN      NaN   \n",
       "7609  10870     NaN      NaN   \n",
       "7610  10871     NaN      NaN   \n",
       "7611  10872     NaN      NaN   \n",
       "7612  10873     NaN      NaN   \n",
       "\n",
       "                                                   text  target  \\\n",
       "0     our deeds are the reason of this #earthquake m...       1   \n",
       "1                forest fire near la ronge sask. canada       1   \n",
       "2     all residents asked to 'shelter in place' are ...       1   \n",
       "3     13,000 people receive #wildfires evacuation or...       1   \n",
       "4     just got sent this photo from ruby #alaska as ...       1   \n",
       "...                                                 ...     ...   \n",
       "7608  two giant cranes holding a bridge collapse int...       1   \n",
       "7609  @aria_ahrary @thetawniest the out of control w...       1   \n",
       "7610  m1.94 [01:04 utc]?5km s of volcano hawaii. htt...       1   \n",
       "7611  police investigating after an e-bike collided ...       1   \n",
       "7612  the latest: more homes razed by northern calif...       1   \n",
       "\n",
       "                                             clean_text  \n",
       "0          deeds reason earthquake may allah forgive us  \n",
       "1                 forest fire near la ronge sask canada  \n",
       "2     residents asked shelter place notified officer...  \n",
       "3      people receive wildfires evacuation orders ca...  \n",
       "4     got sent photo ruby alaska smoke wildfires pou...  \n",
       "...                                                 ...  \n",
       "7608  two giant cranes holding bridge collapse nearb...  \n",
       "7609  aria_ahrary thetawniest control wild fires cal...  \n",
       "7610                           m  utckm volcano hawaii   \n",
       "7611  police investigating ebike collided car little...  \n",
       "7612  latest homes razed northern california wildfir...  \n",
       "\n",
       "[7613 rows x 6 columns]"
      ]
     },
     "execution_count": 28,
     "metadata": {},
     "output_type": "execute_result"
    }
   ],
   "source": [
    "train_data"
   ]
  },
  {
   "cell_type": "code",
   "execution_count": 29,
   "metadata": {
    "execution": {
     "iopub.execute_input": "2020-09-01T15:18:16.165641Z",
     "iopub.status.busy": "2020-09-01T15:18:16.164804Z",
     "iopub.status.idle": "2020-09-01T15:18:16.168721Z",
     "shell.execute_reply": "2020-09-01T15:18:16.168146Z"
    },
    "papermill": {
     "duration": 0.037877,
     "end_time": "2020-09-01T15:18:16.168842",
     "exception": false,
     "start_time": "2020-09-01T15:18:16.130965",
     "status": "completed"
    },
    "tags": []
   },
   "outputs": [],
   "source": [
    "# train test split\n",
    "target = train_data['target']\n",
    "    \n",
    "x_train, x_test, y_train, y_test = train_test_split(train_data['clean_text'], target, test_size=0.30, random_state=100)"
   ]
  },
  {
   "cell_type": "code",
   "execution_count": 30,
   "metadata": {
    "execution": {
     "iopub.execute_input": "2020-09-01T15:18:16.226335Z",
     "iopub.status.busy": "2020-09-01T15:18:16.225559Z",
     "iopub.status.idle": "2020-09-01T15:18:16.228945Z",
     "shell.execute_reply": "2020-09-01T15:18:16.228227Z"
    },
    "papermill": {
     "duration": 0.034501,
     "end_time": "2020-09-01T15:18:16.229063",
     "exception": false,
     "start_time": "2020-09-01T15:18:16.194562",
     "status": "completed"
    },
    "tags": []
   },
   "outputs": [],
   "source": [
    "# Feature extraction\n",
    "\n",
    "vectorizer = CountVectorizer(max_df = 0.7, max_features=1000)"
   ]
  },
  {
   "cell_type": "code",
   "execution_count": 31,
   "metadata": {
    "execution": {
     "iopub.execute_input": "2020-09-01T15:18:16.288316Z",
     "iopub.status.busy": "2020-09-01T15:18:16.287177Z",
     "iopub.status.idle": "2020-09-01T15:18:16.555064Z",
     "shell.execute_reply": "2020-09-01T15:18:16.554398Z"
    },
    "papermill": {
     "duration": 0.299711,
     "end_time": "2020-09-01T15:18:16.555187",
     "exception": false,
     "start_time": "2020-09-01T15:18:16.255476",
     "status": "completed"
    },
    "tags": []
   },
   "outputs": [],
   "source": [
    "train_df = vectorizer.fit_transform(x_train.values.astype('U'))\n",
    "    \n",
    "test_df = vectorizer.transform(x_test.values.astype('U'))"
   ]
  },
  {
   "cell_type": "code",
   "execution_count": 32,
   "metadata": {
    "execution": {
     "iopub.execute_input": "2020-09-01T15:18:16.612276Z",
     "iopub.status.busy": "2020-09-01T15:18:16.611190Z",
     "iopub.status.idle": "2020-09-01T15:18:16.614739Z",
     "shell.execute_reply": "2020-09-01T15:18:16.614034Z"
    },
    "papermill": {
     "duration": 0.033781,
     "end_time": "2020-09-01T15:18:16.614859",
     "exception": false,
     "start_time": "2020-09-01T15:18:16.581078",
     "status": "completed"
    },
    "tags": []
   },
   "outputs": [],
   "source": [
    "from sklearn.linear_model import LogisticRegression"
   ]
  },
  {
   "cell_type": "code",
   "execution_count": 33,
   "metadata": {
    "execution": {
     "iopub.execute_input": "2020-09-01T15:18:16.671854Z",
     "iopub.status.busy": "2020-09-01T15:18:16.670801Z",
     "iopub.status.idle": "2020-09-01T15:18:16.674309Z",
     "shell.execute_reply": "2020-09-01T15:18:16.673582Z"
    },
    "papermill": {
     "duration": 0.033758,
     "end_time": "2020-09-01T15:18:16.674430",
     "exception": false,
     "start_time": "2020-09-01T15:18:16.640672",
     "status": "completed"
    },
    "tags": []
   },
   "outputs": [],
   "source": [
    "model = LogisticRegression()"
   ]
  },
  {
   "cell_type": "code",
   "execution_count": 34,
   "metadata": {
    "execution": {
     "iopub.execute_input": "2020-09-01T15:18:16.731343Z",
     "iopub.status.busy": "2020-09-01T15:18:16.730599Z",
     "iopub.status.idle": "2020-09-01T15:18:16.810363Z",
     "shell.execute_reply": "2020-09-01T15:18:16.809580Z"
    },
    "papermill": {
     "duration": 0.110084,
     "end_time": "2020-09-01T15:18:16.810514",
     "exception": false,
     "start_time": "2020-09-01T15:18:16.700430",
     "status": "completed"
    },
    "tags": []
   },
   "outputs": [
    {
     "data": {
      "text/plain": [
       "LogisticRegression()"
      ]
     },
     "execution_count": 34,
     "metadata": {},
     "output_type": "execute_result"
    }
   ],
   "source": [
    "model.fit(train_df, y_train)"
   ]
  },
  {
   "cell_type": "code",
   "execution_count": 35,
   "metadata": {
    "execution": {
     "iopub.execute_input": "2020-09-01T15:18:16.868568Z",
     "iopub.status.busy": "2020-09-01T15:18:16.867808Z",
     "iopub.status.idle": "2020-09-01T15:18:16.873330Z",
     "shell.execute_reply": "2020-09-01T15:18:16.872579Z"
    },
    "papermill": {
     "duration": 0.036564,
     "end_time": "2020-09-01T15:18:16.873459",
     "exception": false,
     "start_time": "2020-09-01T15:18:16.836895",
     "status": "completed"
    },
    "tags": []
   },
   "outputs": [
    {
     "data": {
      "text/plain": [
       "array([1, 0, 1, ..., 0, 0, 1])"
      ]
     },
     "execution_count": 35,
     "metadata": {},
     "output_type": "execute_result"
    }
   ],
   "source": [
    "model.predict(test_df)"
   ]
  },
  {
   "cell_type": "code",
   "execution_count": 36,
   "metadata": {
    "execution": {
     "iopub.execute_input": "2020-09-01T15:18:16.932203Z",
     "iopub.status.busy": "2020-09-01T15:18:16.931213Z",
     "iopub.status.idle": "2020-09-01T15:18:16.934766Z",
     "shell.execute_reply": "2020-09-01T15:18:16.934049Z"
    },
    "papermill": {
     "duration": 0.034692,
     "end_time": "2020-09-01T15:18:16.934881",
     "exception": false,
     "start_time": "2020-09-01T15:18:16.900189",
     "status": "completed"
    },
    "tags": []
   },
   "outputs": [],
   "source": [
    "from sklearn.metrics import precision_recall_curve"
   ]
  },
  {
   "cell_type": "code",
   "execution_count": 37,
   "metadata": {
    "execution": {
     "iopub.execute_input": "2020-09-01T15:18:16.993428Z",
     "iopub.status.busy": "2020-09-01T15:18:16.992469Z",
     "iopub.status.idle": "2020-09-01T15:18:16.996327Z",
     "shell.execute_reply": "2020-09-01T15:18:16.996865Z"
    },
    "papermill": {
     "duration": 0.035985,
     "end_time": "2020-09-01T15:18:16.997028",
     "exception": false,
     "start_time": "2020-09-01T15:18:16.961043",
     "status": "completed"
    },
    "tags": []
   },
   "outputs": [],
   "source": [
    "# prediction on test samples\n",
    "\n",
    "preds1 = pd.DataFrame(model.predict_proba(test_df), \n",
    "                     # index=X_test_post_encoding.index, \n",
    "                     columns= ['prob_0', 'prob_1'])\n",
    "# test_df = pd.concat([X_test_post_encoding, y_test, preds], axis = 1)"
   ]
  },
  {
   "cell_type": "code",
   "execution_count": 38,
   "metadata": {
    "execution": {
     "iopub.execute_input": "2020-09-01T15:18:17.056348Z",
     "iopub.status.busy": "2020-09-01T15:18:17.055382Z",
     "iopub.status.idle": "2020-09-01T15:18:17.061333Z",
     "shell.execute_reply": "2020-09-01T15:18:17.060715Z"
    },
    "papermill": {
     "duration": 0.037721,
     "end_time": "2020-09-01T15:18:17.061451",
     "exception": false,
     "start_time": "2020-09-01T15:18:17.023730",
     "status": "completed"
    },
    "tags": []
   },
   "outputs": [],
   "source": [
    "# precision recall curve\n",
    "\n",
    "lr_precision1, lr_recall1, _1 = precision_recall_curve(y_true = y_test, probas_pred = preds1.prob_1)"
   ]
  },
  {
   "cell_type": "code",
   "execution_count": 39,
   "metadata": {
    "execution": {
     "iopub.execute_input": "2020-09-01T15:18:17.131617Z",
     "iopub.status.busy": "2020-09-01T15:18:17.129954Z",
     "iopub.status.idle": "2020-09-01T15:18:17.340230Z",
     "shell.execute_reply": "2020-09-01T15:18:17.340790Z"
    },
    "papermill": {
     "duration": 0.252946,
     "end_time": "2020-09-01T15:18:17.340981",
     "exception": false,
     "start_time": "2020-09-01T15:18:17.088035",
     "status": "completed"
    },
    "tags": []
   },
   "outputs": [
    {
     "data": {
      "text/plain": [
       "Text(0.5, 1.0, 'Precision-Recall Curve - LogisticRegression')"
      ]
     },
     "execution_count": 39,
     "metadata": {},
     "output_type": "execute_result"
    },
    {
     "data": {
      "image/png": "[encoded data removed]",
      "text/plain": [
       "<Figure size 432x288 with 1 Axes>"
      ]
     },
     "metadata": {
      "needs_background": "light"
     },
     "output_type": "display_data"
    }
   ],
   "source": [
    "# Precision recall curve\n",
    "\n",
    "plt.plot(lr_recall1, lr_precision1)\n",
    "plt.grid()\n",
    "plt.xlabel('Recall')\n",
    "plt.ylabel('Precision')\n",
    "plt.title('Precision-Recall Curve - LogisticRegression')"
   ]
  },
  {
   "cell_type": "code",
   "execution_count": null,
   "metadata": {
    "papermill": {
     "duration": 0.026756,
     "end_time": "2020-09-01T15:18:17.395402",
     "exception": false,
     "start_time": "2020-09-01T15:18:17.368646",
     "status": "completed"
    },
    "tags": []
   },
   "outputs": [],
   "source": []
  }
 ],
 "metadata": {
  "kernelspec": {
   "display_name": "Python 3",
   "language": "python",
   "name": "python3"
  },
  "language_info": {
   "codemirror_mode": {
    "name": "ipython",
    "version": 3
   },
   "file_extension": ".py",
   "mimetype": "text/x-python",
   "name": "python",
   "nbconvert_exporter": "python",
   "pygments_lexer": "ipython3",
   "version": "3.7.6"
  },
  "papermill": {
   "duration": 20.74005,
   "end_time": "2020-09-01T15:18:17.529830",
   "environment_variables": {},
   "exception": null,
   "input_path": "__notebook__.ipynb",
   "output_path": "__notebook__.ipynb",
   "parameters": {},
   "start_time": "2020-09-01T15:17:56.789780",
   "version": "2.1.0"
  }
 },
 "nbformat": 4,
 "nbformat_minor": 4
}
